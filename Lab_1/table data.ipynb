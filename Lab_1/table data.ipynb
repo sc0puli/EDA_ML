{
 "cells": [
  {
   "cell_type": "markdown",
   "id": "7ebf3430-dbee-4222-94d3-d6ca52c422d3",
   "metadata": {
    "editable": false,
    "slideshow": {
     "slide_type": ""
    },
    "tags": []
   },
   "source": [
    "<center><H1>Табличные данные</H1></center>"
   ]
  },
  {
   "cell_type": "markdown",
   "id": "7a866a98-4c4b-4d40-8188-92fb0e374607",
   "metadata": {
    "editable": false,
    "slideshow": {
     "slide_type": ""
    },
    "tags": []
   },
   "source": [
    "<H4>Обозначения</H4>"
   ]
  },
  {
   "cell_type": "markdown",
   "id": "4417708d-eb3c-4c55-8a04-44b413b436ec",
   "metadata": {
    "editable": false,
    "slideshow": {
     "slide_type": ""
    },
    "tags": []
   },
   "source": [
    "⭐ - Простое задание  \n",
    "🌟 - Сложное задание  \n",
    "⭐⭐ - Задание на 2 балла  \n",
    "⏱ - Задание на скорость (балл получает только первый студент с каждого ряда)  \n",
    "💫 - Конец задания"
   ]
  },
  {
   "cell_type": "markdown",
   "id": "7991cee1-10de-41fe-ac8b-ef462913851b",
   "metadata": {
    "editable": true,
    "slideshow": {
     "slide_type": ""
    },
    "tags": []
   },
   "source": [
    "<H2>1. DataFrame</H2>"
   ]
  },
  {
   "cell_type": "markdown",
   "id": "92f986a2-eb4b-426d-9201-eaf18486d170",
   "metadata": {
    "editable": true,
    "slideshow": {
     "slide_type": ""
    },
    "tags": []
   },
   "source": [
    "Рассмотрим сначала простой случай, когда объем данных позволяет полностью считать их и поместить в оперативную память  \n",
    "\n",
    "В качестве примера возьмем данные метеорологической станции  \n",
    "Найдите в директории `data/meteo` файлы с расширением __.csv__ и сохраните пути к ним в переменные"
   ]
  },
  {
   "cell_type": "code",
   "id": "7267be27-fac2-4d52-a370-a1fbe22ee659",
   "metadata": {
    "editable": true,
    "slideshow": {
     "slide_type": ""
    },
    "tags": [],
    "ExecuteTime": {
     "end_time": "2025-03-13T12:55:43.011305Z",
     "start_time": "2025-03-13T12:55:43.007063Z"
    }
   },
   "source": [
    "station = '47423'        # редактировать здесь\n",
    "daily_data_path = f'data/meteo/{station}_daily.csv'       # ежедневные данные\n",
    "monthly_data_path = f'data/meteo/{station}_monthly.csv'   # ежемесячные данные"
   ],
   "outputs": [],
   "execution_count": 12
  },
  {
   "cell_type": "markdown",
   "id": "033f13f9-85c9-4e17-83eb-d4b2659bc2c2",
   "metadata": {
    "editable": true,
    "slideshow": {
     "slide_type": ""
    },
    "tags": []
   },
   "source": [
    "<br>\n",
    "\n",
    "Откройте эти файлы и ознакомьтесь с их содержимым  \n",
    "\n",
    "Заголовки в таблицах означают следующее:\n",
    "- time - дата измерений (для ежемесячных данных - первый день месяца)\n",
    "- tavg - средняя температура в градусах Цельсия\n",
    "- tmin - минимальная температура\n",
    "- tmax - максимальная температура\n",
    "- prcp - количество осадков в миллиметрах\n",
    "- snow - количество снега в миллиметрах\n",
    "- wdir - среднее направление ветра в градусах\n",
    "- wspd - средняя скорость ветра в километрах в час\n",
    "- wpgt - максимальная скорость порывов ветра в километрах в час\n",
    "- pres - давление на уровне моря в гектопаскалях\n",
    "- tsun - время солнечной погоды в минутах\n",
    "\n",
    "_Обратите внимание, что станция у каждого своя, и данные измерений отличаются_  "
   ]
  },
  {
   "cell_type": "markdown",
   "id": "700f4ea6-7d48-452b-ba2e-7246f8cd30cd",
   "metadata": {
    "editable": true,
    "slideshow": {
     "slide_type": ""
    },
    "tags": []
   },
   "source": [
    "Теперь попробуем считать эти данные  \n",
    "Нам понадобится некоторая структура для их хранения и обработки  \n",
    "В прошлой лабораторной работе вы уже познакомились с базовыми структурами данных Python: `list`, `tuple`, `dict`, `set`  \n",
    "Таблицу можно было бы представить, например, вложенными списками, но есть и более удобные варианты  \n",
    "\n",
    "Давайте познакомимся с модулем `pandas`, предназначенным для обработки табличных данных  \n",
    "Для начала импортируем его"
   ]
  },
  {
   "cell_type": "code",
   "id": "369ff153-6113-48ac-9817-1e192fb6bd67",
   "metadata": {
    "editable": true,
    "slideshow": {
     "slide_type": ""
    },
    "tags": [],
    "ExecuteTime": {
     "end_time": "2025-03-13T12:55:44.811140Z",
     "start_time": "2025-03-13T12:55:44.808166Z"
    }
   },
   "source": [
    "import pandas as pd"
   ],
   "outputs": [],
   "execution_count": 13
  },
  {
   "cell_type": "markdown",
   "id": "ad4b563b-6938-42f3-aaea-8cecc5a9fc93",
   "metadata": {
    "editable": true,
    "slideshow": {
     "slide_type": ""
    },
    "tags": []
   },
   "source": [
    "<br>\n",
    "\n",
    "Также нам понадобится модуль `numpy`, на котором основан `pandas`"
   ]
  },
  {
   "cell_type": "code",
   "id": "9ce78084-9762-425b-a22b-8dbaae17ab30",
   "metadata": {
    "editable": true,
    "slideshow": {
     "slide_type": ""
    },
    "tags": [],
    "ExecuteTime": {
     "end_time": "2025-03-13T12:55:46.083488Z",
     "start_time": "2025-03-13T12:55:46.079526Z"
    }
   },
   "source": [
    "import numpy as np"
   ],
   "outputs": [],
   "execution_count": 14
  },
  {
   "cell_type": "markdown",
   "id": "3b8b4108-cea3-4b10-9e58-e1a87171386e",
   "metadata": {
    "editable": true,
    "slideshow": {
     "slide_type": ""
    },
    "tags": []
   },
   "source": [
    "<br>\n",
    "Теперь применим функцию `read_csv`"
   ]
  },
  {
   "cell_type": "code",
   "id": "1ff9656d-ed5d-481b-8ee9-b923edb5a970",
   "metadata": {
    "editable": true,
    "scrolled": true,
    "slideshow": {
     "slide_type": ""
    },
    "tags": [],
    "ExecuteTime": {
     "end_time": "2025-03-13T12:55:47.604855Z",
     "start_time": "2025-03-13T12:55:47.567104Z"
    }
   },
   "source": [
    "daily_data = pd.read_csv(daily_data_path)\n",
    "daily_data"
   ],
   "outputs": [
    {
     "data": {
      "text/plain": [
       "             time  tavg  tmin  tmax  prcp  snow   wdir  wspd  wpgt    pres  \\\n",
       "0      1951-01-01   NaN  -7.0  -3.8   8.3   NaN    NaN   NaN   NaN     NaN   \n",
       "1      1951-01-02   NaN  -6.3  -1.9   1.4   NaN    NaN   NaN   NaN     NaN   \n",
       "2      1951-01-03   NaN  -6.2  -3.9   2.5   NaN    NaN   NaN   NaN     NaN   \n",
       "3      1951-01-04   NaN  -8.6  -5.5   0.7   NaN    NaN   NaN   NaN     NaN   \n",
       "4      1951-01-05   NaN  -9.6  -7.0   3.5   NaN    NaN   NaN   NaN     NaN   \n",
       "...           ...   ...   ...   ...   ...   ...    ...   ...   ...     ...   \n",
       "26284  2024-09-12  21.3  19.2  25.6   NaN   NaN  310.0  14.8   NaN  1015.0   \n",
       "26285  2024-09-14  20.3  15.1  22.0   NaN   NaN    NaN   NaN   NaN     NaN   \n",
       "26286  2024-09-15  17.3   NaN  21.2  17.0   NaN    NaN   NaN   NaN     NaN   \n",
       "26287  2024-09-16  20.2  13.3  22.2   NaN   NaN    NaN   NaN   NaN     NaN   \n",
       "26288  2024-09-17  20.3   NaN  23.4   NaN   NaN    NaN   NaN   NaN     NaN   \n",
       "\n",
       "       tsun  \n",
       "0       NaN  \n",
       "1       NaN  \n",
       "2       NaN  \n",
       "3       NaN  \n",
       "4       NaN  \n",
       "...     ...  \n",
       "26284   NaN  \n",
       "26285   NaN  \n",
       "26286   NaN  \n",
       "26287   NaN  \n",
       "26288   NaN  \n",
       "\n",
       "[26289 rows x 11 columns]"
      ],
      "text/html": [
       "<div>\n",
       "<style scoped>\n",
       "    .dataframe tbody tr th:only-of-type {\n",
       "        vertical-align: middle;\n",
       "    }\n",
       "\n",
       "    .dataframe tbody tr th {\n",
       "        vertical-align: top;\n",
       "    }\n",
       "\n",
       "    .dataframe thead th {\n",
       "        text-align: right;\n",
       "    }\n",
       "</style>\n",
       "<table border=\"1\" class=\"dataframe\">\n",
       "  <thead>\n",
       "    <tr style=\"text-align: right;\">\n",
       "      <th></th>\n",
       "      <th>time</th>\n",
       "      <th>tavg</th>\n",
       "      <th>tmin</th>\n",
       "      <th>tmax</th>\n",
       "      <th>prcp</th>\n",
       "      <th>snow</th>\n",
       "      <th>wdir</th>\n",
       "      <th>wspd</th>\n",
       "      <th>wpgt</th>\n",
       "      <th>pres</th>\n",
       "      <th>tsun</th>\n",
       "    </tr>\n",
       "  </thead>\n",
       "  <tbody>\n",
       "    <tr>\n",
       "      <th>0</th>\n",
       "      <td>1951-01-01</td>\n",
       "      <td>NaN</td>\n",
       "      <td>-7.0</td>\n",
       "      <td>-3.8</td>\n",
       "      <td>8.3</td>\n",
       "      <td>NaN</td>\n",
       "      <td>NaN</td>\n",
       "      <td>NaN</td>\n",
       "      <td>NaN</td>\n",
       "      <td>NaN</td>\n",
       "      <td>NaN</td>\n",
       "    </tr>\n",
       "    <tr>\n",
       "      <th>1</th>\n",
       "      <td>1951-01-02</td>\n",
       "      <td>NaN</td>\n",
       "      <td>-6.3</td>\n",
       "      <td>-1.9</td>\n",
       "      <td>1.4</td>\n",
       "      <td>NaN</td>\n",
       "      <td>NaN</td>\n",
       "      <td>NaN</td>\n",
       "      <td>NaN</td>\n",
       "      <td>NaN</td>\n",
       "      <td>NaN</td>\n",
       "    </tr>\n",
       "    <tr>\n",
       "      <th>2</th>\n",
       "      <td>1951-01-03</td>\n",
       "      <td>NaN</td>\n",
       "      <td>-6.2</td>\n",
       "      <td>-3.9</td>\n",
       "      <td>2.5</td>\n",
       "      <td>NaN</td>\n",
       "      <td>NaN</td>\n",
       "      <td>NaN</td>\n",
       "      <td>NaN</td>\n",
       "      <td>NaN</td>\n",
       "      <td>NaN</td>\n",
       "    </tr>\n",
       "    <tr>\n",
       "      <th>3</th>\n",
       "      <td>1951-01-04</td>\n",
       "      <td>NaN</td>\n",
       "      <td>-8.6</td>\n",
       "      <td>-5.5</td>\n",
       "      <td>0.7</td>\n",
       "      <td>NaN</td>\n",
       "      <td>NaN</td>\n",
       "      <td>NaN</td>\n",
       "      <td>NaN</td>\n",
       "      <td>NaN</td>\n",
       "      <td>NaN</td>\n",
       "    </tr>\n",
       "    <tr>\n",
       "      <th>4</th>\n",
       "      <td>1951-01-05</td>\n",
       "      <td>NaN</td>\n",
       "      <td>-9.6</td>\n",
       "      <td>-7.0</td>\n",
       "      <td>3.5</td>\n",
       "      <td>NaN</td>\n",
       "      <td>NaN</td>\n",
       "      <td>NaN</td>\n",
       "      <td>NaN</td>\n",
       "      <td>NaN</td>\n",
       "      <td>NaN</td>\n",
       "    </tr>\n",
       "    <tr>\n",
       "      <th>...</th>\n",
       "      <td>...</td>\n",
       "      <td>...</td>\n",
       "      <td>...</td>\n",
       "      <td>...</td>\n",
       "      <td>...</td>\n",
       "      <td>...</td>\n",
       "      <td>...</td>\n",
       "      <td>...</td>\n",
       "      <td>...</td>\n",
       "      <td>...</td>\n",
       "      <td>...</td>\n",
       "    </tr>\n",
       "    <tr>\n",
       "      <th>26284</th>\n",
       "      <td>2024-09-12</td>\n",
       "      <td>21.3</td>\n",
       "      <td>19.2</td>\n",
       "      <td>25.6</td>\n",
       "      <td>NaN</td>\n",
       "      <td>NaN</td>\n",
       "      <td>310.0</td>\n",
       "      <td>14.8</td>\n",
       "      <td>NaN</td>\n",
       "      <td>1015.0</td>\n",
       "      <td>NaN</td>\n",
       "    </tr>\n",
       "    <tr>\n",
       "      <th>26285</th>\n",
       "      <td>2024-09-14</td>\n",
       "      <td>20.3</td>\n",
       "      <td>15.1</td>\n",
       "      <td>22.0</td>\n",
       "      <td>NaN</td>\n",
       "      <td>NaN</td>\n",
       "      <td>NaN</td>\n",
       "      <td>NaN</td>\n",
       "      <td>NaN</td>\n",
       "      <td>NaN</td>\n",
       "      <td>NaN</td>\n",
       "    </tr>\n",
       "    <tr>\n",
       "      <th>26286</th>\n",
       "      <td>2024-09-15</td>\n",
       "      <td>17.3</td>\n",
       "      <td>NaN</td>\n",
       "      <td>21.2</td>\n",
       "      <td>17.0</td>\n",
       "      <td>NaN</td>\n",
       "      <td>NaN</td>\n",
       "      <td>NaN</td>\n",
       "      <td>NaN</td>\n",
       "      <td>NaN</td>\n",
       "      <td>NaN</td>\n",
       "    </tr>\n",
       "    <tr>\n",
       "      <th>26287</th>\n",
       "      <td>2024-09-16</td>\n",
       "      <td>20.2</td>\n",
       "      <td>13.3</td>\n",
       "      <td>22.2</td>\n",
       "      <td>NaN</td>\n",
       "      <td>NaN</td>\n",
       "      <td>NaN</td>\n",
       "      <td>NaN</td>\n",
       "      <td>NaN</td>\n",
       "      <td>NaN</td>\n",
       "      <td>NaN</td>\n",
       "    </tr>\n",
       "    <tr>\n",
       "      <th>26288</th>\n",
       "      <td>2024-09-17</td>\n",
       "      <td>20.3</td>\n",
       "      <td>NaN</td>\n",
       "      <td>23.4</td>\n",
       "      <td>NaN</td>\n",
       "      <td>NaN</td>\n",
       "      <td>NaN</td>\n",
       "      <td>NaN</td>\n",
       "      <td>NaN</td>\n",
       "      <td>NaN</td>\n",
       "      <td>NaN</td>\n",
       "    </tr>\n",
       "  </tbody>\n",
       "</table>\n",
       "<p>26289 rows × 11 columns</p>\n",
       "</div>"
      ]
     },
     "execution_count": 15,
     "metadata": {},
     "output_type": "execute_result"
    }
   ],
   "execution_count": 15
  },
  {
   "cell_type": "markdown",
   "id": "ee761443-cf23-4ab0-a0d9-1d4cde4a190a",
   "metadata": {
    "editable": true,
    "slideshow": {
     "slide_type": ""
    },
    "tags": []
   },
   "source": [
    "_Так просто?_  \n",
    "_Да!_"
   ]
  },
  {
   "cell_type": "markdown",
   "id": "fda2e882-ebf9-4450-9033-f7c0efe9af50",
   "metadata": {
    "editable": true,
    "slideshow": {
     "slide_type": ""
    },
    "tags": []
   },
   "source": [
    "Но теперь нужно понять, что за структуру данных мы получили и как с ней работать  \n",
    "Проверим, какому классу принадлежит объект `daily_data`"
   ]
  },
  {
   "cell_type": "code",
   "id": "b65a8a1e-1388-4ae7-b6f8-49572a6e5411",
   "metadata": {
    "editable": true,
    "slideshow": {
     "slide_type": ""
    },
    "tags": [],
    "ExecuteTime": {
     "end_time": "2025-03-13T12:55:55.861441Z",
     "start_time": "2025-03-13T12:55:55.857173Z"
    }
   },
   "source": [
    "daily_data.__class__"
   ],
   "outputs": [
    {
     "data": {
      "text/plain": [
       "pandas.core.frame.DataFrame"
      ]
     },
     "execution_count": 17,
     "metadata": {},
     "output_type": "execute_result"
    }
   ],
   "execution_count": 17
  },
  {
   "cell_type": "markdown",
   "id": "0660b5a9-a551-4c3f-ac11-62fdc426f1c8",
   "metadata": {
    "editable": true,
    "slideshow": {
     "slide_type": ""
    },
    "tags": []
   },
   "source": [
    "Если не произошло никаких ошибок, класс должен называться `DataFrame`  \n",
    "`DataFrame` - это один из основных классов модуля `pandas`  \n",
    "\n",
    "Как вы уже поняли, объекты `DataFrame` хранят табличные данные  \n",
    "Рассмотрим теперь инструменты для их обработки"
   ]
  },
  {
   "cell_type": "markdown",
   "id": "5fee885b-47bc-4b67-8c84-99f8eadc400a",
   "metadata": {
    "editable": true,
    "slideshow": {
     "slide_type": ""
    },
    "tags": []
   },
   "source": [
    "<H3>1.1. Индексирование"
   ]
  },
  {
   "cell_type": "markdown",
   "id": "a738b005-895e-4d91-b1f1-cebee26e9464",
   "metadata": {
    "editable": true,
    "slideshow": {
     "slide_type": ""
    },
    "tags": []
   },
   "source": [
    "Начнем с самого простого - получим данные отдельных строк и столбцов  \n",
    "\n",
    "Например, оставим в нашей таблице только среднюю температуру"
   ]
  },
  {
   "cell_type": "code",
   "id": "6a84d2b6-6ad7-40b8-937d-a73bc2323f59",
   "metadata": {
    "editable": true,
    "slideshow": {
     "slide_type": ""
    },
    "tags": [],
    "ExecuteTime": {
     "end_time": "2025-03-13T12:55:57.644964Z",
     "start_time": "2025-03-13T12:55:57.639330Z"
    }
   },
   "source": [
    "t_data = daily_data['tavg']\n",
    "t_data"
   ],
   "outputs": [
    {
     "data": {
      "text/plain": [
       "0         NaN\n",
       "1         NaN\n",
       "2         NaN\n",
       "3         NaN\n",
       "4         NaN\n",
       "         ... \n",
       "26284    21.3\n",
       "26285    20.3\n",
       "26286    17.3\n",
       "26287    20.2\n",
       "26288    20.3\n",
       "Name: tavg, Length: 26289, dtype: float64"
      ]
     },
     "execution_count": 18,
     "metadata": {},
     "output_type": "execute_result"
    }
   ],
   "execution_count": 18
  },
  {
   "cell_type": "markdown",
   "id": "5127a4f1-7694-44a2-ac93-352a51264534",
   "metadata": {
    "editable": true,
    "slideshow": {
     "slide_type": ""
    },
    "tags": []
   },
   "source": [
    "<br>\n",
    "Без сведений о дате получилось не очень информативно..."
   ]
  },
  {
   "cell_type": "code",
   "id": "959fc221-9e88-433a-bc20-46eb6e6c9072",
   "metadata": {
    "editable": true,
    "slideshow": {
     "slide_type": ""
    },
    "tags": [],
    "ExecuteTime": {
     "end_time": "2025-03-13T12:55:58.904703Z",
     "start_time": "2025-03-13T12:55:58.893514Z"
    }
   },
   "source": [
    "t_data = daily_data[['time', 'tavg']]\n",
    "t_data"
   ],
   "outputs": [
    {
     "data": {
      "text/plain": [
       "             time  tavg\n",
       "0      1951-01-01   NaN\n",
       "1      1951-01-02   NaN\n",
       "2      1951-01-03   NaN\n",
       "3      1951-01-04   NaN\n",
       "4      1951-01-05   NaN\n",
       "...           ...   ...\n",
       "26284  2024-09-12  21.3\n",
       "26285  2024-09-14  20.3\n",
       "26286  2024-09-15  17.3\n",
       "26287  2024-09-16  20.2\n",
       "26288  2024-09-17  20.3\n",
       "\n",
       "[26289 rows x 2 columns]"
      ],
      "text/html": [
       "<div>\n",
       "<style scoped>\n",
       "    .dataframe tbody tr th:only-of-type {\n",
       "        vertical-align: middle;\n",
       "    }\n",
       "\n",
       "    .dataframe tbody tr th {\n",
       "        vertical-align: top;\n",
       "    }\n",
       "\n",
       "    .dataframe thead th {\n",
       "        text-align: right;\n",
       "    }\n",
       "</style>\n",
       "<table border=\"1\" class=\"dataframe\">\n",
       "  <thead>\n",
       "    <tr style=\"text-align: right;\">\n",
       "      <th></th>\n",
       "      <th>time</th>\n",
       "      <th>tavg</th>\n",
       "    </tr>\n",
       "  </thead>\n",
       "  <tbody>\n",
       "    <tr>\n",
       "      <th>0</th>\n",
       "      <td>1951-01-01</td>\n",
       "      <td>NaN</td>\n",
       "    </tr>\n",
       "    <tr>\n",
       "      <th>1</th>\n",
       "      <td>1951-01-02</td>\n",
       "      <td>NaN</td>\n",
       "    </tr>\n",
       "    <tr>\n",
       "      <th>2</th>\n",
       "      <td>1951-01-03</td>\n",
       "      <td>NaN</td>\n",
       "    </tr>\n",
       "    <tr>\n",
       "      <th>3</th>\n",
       "      <td>1951-01-04</td>\n",
       "      <td>NaN</td>\n",
       "    </tr>\n",
       "    <tr>\n",
       "      <th>4</th>\n",
       "      <td>1951-01-05</td>\n",
       "      <td>NaN</td>\n",
       "    </tr>\n",
       "    <tr>\n",
       "      <th>...</th>\n",
       "      <td>...</td>\n",
       "      <td>...</td>\n",
       "    </tr>\n",
       "    <tr>\n",
       "      <th>26284</th>\n",
       "      <td>2024-09-12</td>\n",
       "      <td>21.3</td>\n",
       "    </tr>\n",
       "    <tr>\n",
       "      <th>26285</th>\n",
       "      <td>2024-09-14</td>\n",
       "      <td>20.3</td>\n",
       "    </tr>\n",
       "    <tr>\n",
       "      <th>26286</th>\n",
       "      <td>2024-09-15</td>\n",
       "      <td>17.3</td>\n",
       "    </tr>\n",
       "    <tr>\n",
       "      <th>26287</th>\n",
       "      <td>2024-09-16</td>\n",
       "      <td>20.2</td>\n",
       "    </tr>\n",
       "    <tr>\n",
       "      <th>26288</th>\n",
       "      <td>2024-09-17</td>\n",
       "      <td>20.3</td>\n",
       "    </tr>\n",
       "  </tbody>\n",
       "</table>\n",
       "<p>26289 rows × 2 columns</p>\n",
       "</div>"
      ]
     },
     "execution_count": 19,
     "metadata": {},
     "output_type": "execute_result"
    }
   ],
   "execution_count": 19
  },
  {
   "cell_type": "markdown",
   "id": "41c93b5d-6d94-4822-b8c0-0a8002387b42",
   "metadata": {
    "editable": true,
    "slideshow": {
     "slide_type": ""
    },
    "tags": []
   },
   "source": [
    "<br>\n",
    "А теперь получим данные определенной строки"
   ]
  },
  {
   "cell_type": "code",
   "id": "3454aa48-c108-49f8-aa11-1e686c0a05d7",
   "metadata": {
    "editable": true,
    "slideshow": {
     "slide_type": ""
    },
    "tags": [],
    "ExecuteTime": {
     "end_time": "2025-03-13T12:56:00.150452Z",
     "start_time": "2025-03-13T12:56:00.145742Z"
    }
   },
   "source": [
    "index = 0\n",
    "daily_data.loc[index]"
   ],
   "outputs": [
    {
     "data": {
      "text/plain": [
       "time    1951-01-01\n",
       "tavg           NaN\n",
       "tmin          -7.0\n",
       "tmax          -3.8\n",
       "prcp           8.3\n",
       "snow           NaN\n",
       "wdir           NaN\n",
       "wspd           NaN\n",
       "wpgt           NaN\n",
       "pres           NaN\n",
       "tsun           NaN\n",
       "Name: 0, dtype: object"
      ]
     },
     "execution_count": 20,
     "metadata": {},
     "output_type": "execute_result"
    }
   ],
   "execution_count": 20
  },
  {
   "cell_type": "markdown",
   "id": "3fcfcd0b-81f9-4f36-8bbc-97c3231f163f",
   "metadata": {
    "editable": true,
    "slideshow": {
     "slide_type": ""
    },
    "tags": []
   },
   "source": [
    "<br>\n",
    "\n",
    "Полезнее было бы получать данные строки не по абстрактному индексу, а по дате  \n",
    "Поэтому сделаем саму дату индексом!"
   ]
  },
  {
   "cell_type": "code",
   "id": "a503aec9-4f0d-4a41-bb97-497a4bdcef94",
   "metadata": {
    "editable": true,
    "slideshow": {
     "slide_type": ""
    },
    "tags": [],
    "ExecuteTime": {
     "end_time": "2025-03-13T12:56:01.791988Z",
     "start_time": "2025-03-13T12:56:01.770170Z"
    }
   },
   "source": [
    "daily_data['time'] = pd.to_datetime(daily_data['time'])     # ... но для начала поменяем формат на datetime, сейчас это обычный текст\n",
    "daily_data = daily_data.set_index('time')                   # set_index не меняет индекс в текущей таблице, а возвращает новую"
   ],
   "outputs": [],
   "execution_count": 21
  },
  {
   "cell_type": "code",
   "id": "aa1eafd4-4f80-4395-a2cb-be1db7579dee",
   "metadata": {
    "editable": true,
    "slideshow": {
     "slide_type": ""
    },
    "tags": [],
    "ExecuteTime": {
     "end_time": "2025-03-13T12:56:03.635663Z",
     "start_time": "2025-03-13T12:56:03.625065Z"
    }
   },
   "source": [
    "day = '2024-09-16'          # выберите день, который есть в таблице\n",
    "daily_data.loc[day]"
   ],
   "outputs": [
    {
     "data": {
      "text/plain": [
       "tavg    20.2\n",
       "tmin    13.3\n",
       "tmax    22.2\n",
       "prcp     NaN\n",
       "snow     NaN\n",
       "wdir     NaN\n",
       "wspd     NaN\n",
       "wpgt     NaN\n",
       "pres     NaN\n",
       "tsun     NaN\n",
       "Name: 2024-09-16 00:00:00, dtype: float64"
      ]
     },
     "execution_count": 22,
     "metadata": {},
     "output_type": "execute_result"
    }
   ],
   "execution_count": 22
  },
  {
   "cell_type": "markdown",
   "id": "740462f7-ee92-42da-bbdf-3fd6984cfcee",
   "metadata": {
    "editable": true,
    "slideshow": {
     "slide_type": ""
    },
    "tags": []
   },
   "source": [
    "<br>  \n",
    "\n",
    "Можно также посмотреть данные за период времени  \n",
    "_Обратите внимение, что `.loc` в данном случае писать не обязательно_"
   ]
  },
  {
   "cell_type": "code",
   "id": "7c325c5a-da93-42fc-acec-15862a43b091",
   "metadata": {
    "editable": true,
    "slideshow": {
     "slide_type": ""
    },
    "tags": [],
    "ExecuteTime": {
     "end_time": "2025-03-13T12:56:05.177459Z",
     "start_time": "2025-03-13T12:56:05.159691Z"
    }
   },
   "source": [
    "daily_data['2020-01-01':'2024-12-12']       # если таблица пустая, выберите другие даты"
   ],
   "outputs": [
    {
     "data": {
      "text/plain": [
       "            tavg  tmin  tmax  prcp  snow   wdir  wspd  wpgt    pres  tsun\n",
       "time                                                                     \n",
       "2020-01-01  -3.8  -6.2  -3.0   2.5  10.0  299.0  41.5   NaN  1013.9   NaN\n",
       "2020-01-02  -1.2  -4.6  -0.2   NaN  10.0  299.0  37.5   NaN  1015.3   NaN\n",
       "2020-01-03  -2.3  -3.3   1.5   NaN  10.0  302.0  29.1   NaN  1012.5   NaN\n",
       "2020-01-04  -4.1  -5.5  -1.6   NaN  10.0  328.0  18.1   NaN  1013.9   NaN\n",
       "2020-01-05  -2.3  -5.7  -0.6   NaN  10.0  326.0  19.2   NaN  1018.7   NaN\n",
       "...          ...   ...   ...   ...   ...    ...   ...   ...     ...   ...\n",
       "2024-09-12  21.3  19.2  25.6   NaN   NaN  310.0  14.8   NaN  1015.0   NaN\n",
       "2024-09-14  20.3  15.1  22.0   NaN   NaN    NaN   NaN   NaN     NaN   NaN\n",
       "2024-09-15  17.3   NaN  21.2  17.0   NaN    NaN   NaN   NaN     NaN   NaN\n",
       "2024-09-16  20.2  13.3  22.2   NaN   NaN    NaN   NaN   NaN     NaN   NaN\n",
       "2024-09-17  20.3   NaN  23.4   NaN   NaN    NaN   NaN   NaN     NaN   NaN\n",
       "\n",
       "[1550 rows x 10 columns]"
      ],
      "text/html": [
       "<div>\n",
       "<style scoped>\n",
       "    .dataframe tbody tr th:only-of-type {\n",
       "        vertical-align: middle;\n",
       "    }\n",
       "\n",
       "    .dataframe tbody tr th {\n",
       "        vertical-align: top;\n",
       "    }\n",
       "\n",
       "    .dataframe thead th {\n",
       "        text-align: right;\n",
       "    }\n",
       "</style>\n",
       "<table border=\"1\" class=\"dataframe\">\n",
       "  <thead>\n",
       "    <tr style=\"text-align: right;\">\n",
       "      <th></th>\n",
       "      <th>tavg</th>\n",
       "      <th>tmin</th>\n",
       "      <th>tmax</th>\n",
       "      <th>prcp</th>\n",
       "      <th>snow</th>\n",
       "      <th>wdir</th>\n",
       "      <th>wspd</th>\n",
       "      <th>wpgt</th>\n",
       "      <th>pres</th>\n",
       "      <th>tsun</th>\n",
       "    </tr>\n",
       "    <tr>\n",
       "      <th>time</th>\n",
       "      <th></th>\n",
       "      <th></th>\n",
       "      <th></th>\n",
       "      <th></th>\n",
       "      <th></th>\n",
       "      <th></th>\n",
       "      <th></th>\n",
       "      <th></th>\n",
       "      <th></th>\n",
       "      <th></th>\n",
       "    </tr>\n",
       "  </thead>\n",
       "  <tbody>\n",
       "    <tr>\n",
       "      <th>2020-01-01</th>\n",
       "      <td>-3.8</td>\n",
       "      <td>-6.2</td>\n",
       "      <td>-3.0</td>\n",
       "      <td>2.5</td>\n",
       "      <td>10.0</td>\n",
       "      <td>299.0</td>\n",
       "      <td>41.5</td>\n",
       "      <td>NaN</td>\n",
       "      <td>1013.9</td>\n",
       "      <td>NaN</td>\n",
       "    </tr>\n",
       "    <tr>\n",
       "      <th>2020-01-02</th>\n",
       "      <td>-1.2</td>\n",
       "      <td>-4.6</td>\n",
       "      <td>-0.2</td>\n",
       "      <td>NaN</td>\n",
       "      <td>10.0</td>\n",
       "      <td>299.0</td>\n",
       "      <td>37.5</td>\n",
       "      <td>NaN</td>\n",
       "      <td>1015.3</td>\n",
       "      <td>NaN</td>\n",
       "    </tr>\n",
       "    <tr>\n",
       "      <th>2020-01-03</th>\n",
       "      <td>-2.3</td>\n",
       "      <td>-3.3</td>\n",
       "      <td>1.5</td>\n",
       "      <td>NaN</td>\n",
       "      <td>10.0</td>\n",
       "      <td>302.0</td>\n",
       "      <td>29.1</td>\n",
       "      <td>NaN</td>\n",
       "      <td>1012.5</td>\n",
       "      <td>NaN</td>\n",
       "    </tr>\n",
       "    <tr>\n",
       "      <th>2020-01-04</th>\n",
       "      <td>-4.1</td>\n",
       "      <td>-5.5</td>\n",
       "      <td>-1.6</td>\n",
       "      <td>NaN</td>\n",
       "      <td>10.0</td>\n",
       "      <td>328.0</td>\n",
       "      <td>18.1</td>\n",
       "      <td>NaN</td>\n",
       "      <td>1013.9</td>\n",
       "      <td>NaN</td>\n",
       "    </tr>\n",
       "    <tr>\n",
       "      <th>2020-01-05</th>\n",
       "      <td>-2.3</td>\n",
       "      <td>-5.7</td>\n",
       "      <td>-0.6</td>\n",
       "      <td>NaN</td>\n",
       "      <td>10.0</td>\n",
       "      <td>326.0</td>\n",
       "      <td>19.2</td>\n",
       "      <td>NaN</td>\n",
       "      <td>1018.7</td>\n",
       "      <td>NaN</td>\n",
       "    </tr>\n",
       "    <tr>\n",
       "      <th>...</th>\n",
       "      <td>...</td>\n",
       "      <td>...</td>\n",
       "      <td>...</td>\n",
       "      <td>...</td>\n",
       "      <td>...</td>\n",
       "      <td>...</td>\n",
       "      <td>...</td>\n",
       "      <td>...</td>\n",
       "      <td>...</td>\n",
       "      <td>...</td>\n",
       "    </tr>\n",
       "    <tr>\n",
       "      <th>2024-09-12</th>\n",
       "      <td>21.3</td>\n",
       "      <td>19.2</td>\n",
       "      <td>25.6</td>\n",
       "      <td>NaN</td>\n",
       "      <td>NaN</td>\n",
       "      <td>310.0</td>\n",
       "      <td>14.8</td>\n",
       "      <td>NaN</td>\n",
       "      <td>1015.0</td>\n",
       "      <td>NaN</td>\n",
       "    </tr>\n",
       "    <tr>\n",
       "      <th>2024-09-14</th>\n",
       "      <td>20.3</td>\n",
       "      <td>15.1</td>\n",
       "      <td>22.0</td>\n",
       "      <td>NaN</td>\n",
       "      <td>NaN</td>\n",
       "      <td>NaN</td>\n",
       "      <td>NaN</td>\n",
       "      <td>NaN</td>\n",
       "      <td>NaN</td>\n",
       "      <td>NaN</td>\n",
       "    </tr>\n",
       "    <tr>\n",
       "      <th>2024-09-15</th>\n",
       "      <td>17.3</td>\n",
       "      <td>NaN</td>\n",
       "      <td>21.2</td>\n",
       "      <td>17.0</td>\n",
       "      <td>NaN</td>\n",
       "      <td>NaN</td>\n",
       "      <td>NaN</td>\n",
       "      <td>NaN</td>\n",
       "      <td>NaN</td>\n",
       "      <td>NaN</td>\n",
       "    </tr>\n",
       "    <tr>\n",
       "      <th>2024-09-16</th>\n",
       "      <td>20.2</td>\n",
       "      <td>13.3</td>\n",
       "      <td>22.2</td>\n",
       "      <td>NaN</td>\n",
       "      <td>NaN</td>\n",
       "      <td>NaN</td>\n",
       "      <td>NaN</td>\n",
       "      <td>NaN</td>\n",
       "      <td>NaN</td>\n",
       "      <td>NaN</td>\n",
       "    </tr>\n",
       "    <tr>\n",
       "      <th>2024-09-17</th>\n",
       "      <td>20.3</td>\n",
       "      <td>NaN</td>\n",
       "      <td>23.4</td>\n",
       "      <td>NaN</td>\n",
       "      <td>NaN</td>\n",
       "      <td>NaN</td>\n",
       "      <td>NaN</td>\n",
       "      <td>NaN</td>\n",
       "      <td>NaN</td>\n",
       "      <td>NaN</td>\n",
       "    </tr>\n",
       "  </tbody>\n",
       "</table>\n",
       "<p>1550 rows × 10 columns</p>\n",
       "</div>"
      ]
     },
     "execution_count": 23,
     "metadata": {},
     "output_type": "execute_result"
    }
   ],
   "execution_count": 23
  },
  {
   "cell_type": "markdown",
   "id": "04b14253-ed3c-401d-8465-90b2b5dc06e8",
   "metadata": {
    "editable": true,
    "slideshow": {
     "slide_type": ""
    },
    "tags": []
   },
   "source": [
    "<H3>1.2. Фильтр по условию"
   ]
  },
  {
   "cell_type": "markdown",
   "id": "e8194d3e-ac70-4a3b-93a7-51aebea9ba2e",
   "metadata": {
    "editable": true,
    "slideshow": {
     "slide_type": ""
    },
    "tags": []
   },
   "source": [
    "Попробуем узнать, в какие дни температура опускалась ниже -30 градусов  \n",
    "Поскольку температура представлена в виде числовых данных, сделать это можно простым условным оператором  \n",
    "\n",
    "_Если в результате получается пустая таблица, поменяйте значение температуры_"
   ]
  },
  {
   "cell_type": "code",
   "id": "dfdf3710-897f-442c-a672-f3124bff5bf1",
   "metadata": {
    "editable": true,
    "slideshow": {
     "slide_type": ""
    },
    "tags": [],
    "ExecuteTime": {
     "end_time": "2025-03-13T12:56:11.160574Z",
     "start_time": "2025-03-13T12:56:11.153969Z"
    }
   },
   "source": [
    "daily_data['tmin'] < -30"
   ],
   "outputs": [
    {
     "data": {
      "text/plain": [
       "time\n",
       "1951-01-01    False\n",
       "1951-01-02    False\n",
       "1951-01-03    False\n",
       "1951-01-04    False\n",
       "1951-01-05    False\n",
       "              ...  \n",
       "2024-09-12    False\n",
       "2024-09-14    False\n",
       "2024-09-15    False\n",
       "2024-09-16    False\n",
       "2024-09-17    False\n",
       "Name: tmin, Length: 26289, dtype: bool"
      ]
     },
     "execution_count": 24,
     "metadata": {},
     "output_type": "execute_result"
    }
   ],
   "execution_count": 24
  },
  {
   "cell_type": "markdown",
   "id": "4d19b173-8af6-45f7-92dc-ba5eeb7771e8",
   "metadata": {
    "editable": true,
    "slideshow": {
     "slide_type": ""
    },
    "tags": []
   },
   "source": [
    "<br>\n",
    "\n",
    "Однако в результате мы получили ряд булевых значений (выполнение условия для каждой строки таблицы)  \n",
    "Интереснее будет посмотреть данные только по тем дням, когда условие выполнялось  \n",
    "\n",
    "Для этого используем результат сравнения в качестве индекса"
   ]
  },
  {
   "cell_type": "code",
   "id": "c363d0d7-9418-44ba-badf-f0bdf0b4290f",
   "metadata": {
    "editable": true,
    "slideshow": {
     "slide_type": ""
    },
    "tags": [],
    "ExecuteTime": {
     "end_time": "2025-03-13T12:56:12.050884Z",
     "start_time": "2025-03-13T12:56:12.039504Z"
    }
   },
   "source": [
    "daily_data[daily_data['tmin'] < -10]"
   ],
   "outputs": [
    {
     "data": {
      "text/plain": [
       "            tavg  tmin  tmax  prcp   snow   wdir  wspd  wpgt    pres  tsun\n",
       "time                                                                      \n",
       "1951-01-13   NaN -10.7  -5.0   0.4    NaN    NaN   NaN   NaN     NaN   NaN\n",
       "1951-01-14   NaN -10.6  -6.4   0.5    NaN    NaN   NaN   NaN     NaN   NaN\n",
       "1952-02-02   NaN -11.0   0.9  10.8    NaN    NaN   NaN   NaN     NaN   NaN\n",
       "1952-12-22   NaN -11.8  -6.9   0.3    NaN    NaN   NaN   NaN     NaN   NaN\n",
       "1954-01-23  -7.8 -11.6  -5.3   0.1    NaN    NaN   NaN   NaN     NaN   NaN\n",
       "...          ...   ...   ...   ...    ...    ...   ...   ...     ...   ...\n",
       "2014-02-08  -4.5 -10.2  -3.4   NaN  119.0   59.0  11.7   NaN  1023.0   NaN\n",
       "2018-01-25  -4.9 -10.1  -3.0   1.0   61.0  315.0  24.9   NaN   999.2   NaN\n",
       "2019-02-08  -9.7 -11.1  -8.7   1.5  160.0  311.0  27.9   NaN  1014.0   NaN\n",
       "2019-02-09  -6.8 -10.6  -4.0   NaN  150.0  314.0  19.0   NaN  1018.9   NaN\n",
       "2023-01-24  -9.7 -11.4  -5.6   2.0    NaN  320.0  21.2   NaN  1004.2   NaN\n",
       "\n",
       "[65 rows x 10 columns]"
      ],
      "text/html": [
       "<div>\n",
       "<style scoped>\n",
       "    .dataframe tbody tr th:only-of-type {\n",
       "        vertical-align: middle;\n",
       "    }\n",
       "\n",
       "    .dataframe tbody tr th {\n",
       "        vertical-align: top;\n",
       "    }\n",
       "\n",
       "    .dataframe thead th {\n",
       "        text-align: right;\n",
       "    }\n",
       "</style>\n",
       "<table border=\"1\" class=\"dataframe\">\n",
       "  <thead>\n",
       "    <tr style=\"text-align: right;\">\n",
       "      <th></th>\n",
       "      <th>tavg</th>\n",
       "      <th>tmin</th>\n",
       "      <th>tmax</th>\n",
       "      <th>prcp</th>\n",
       "      <th>snow</th>\n",
       "      <th>wdir</th>\n",
       "      <th>wspd</th>\n",
       "      <th>wpgt</th>\n",
       "      <th>pres</th>\n",
       "      <th>tsun</th>\n",
       "    </tr>\n",
       "    <tr>\n",
       "      <th>time</th>\n",
       "      <th></th>\n",
       "      <th></th>\n",
       "      <th></th>\n",
       "      <th></th>\n",
       "      <th></th>\n",
       "      <th></th>\n",
       "      <th></th>\n",
       "      <th></th>\n",
       "      <th></th>\n",
       "      <th></th>\n",
       "    </tr>\n",
       "  </thead>\n",
       "  <tbody>\n",
       "    <tr>\n",
       "      <th>1951-01-13</th>\n",
       "      <td>NaN</td>\n",
       "      <td>-10.7</td>\n",
       "      <td>-5.0</td>\n",
       "      <td>0.4</td>\n",
       "      <td>NaN</td>\n",
       "      <td>NaN</td>\n",
       "      <td>NaN</td>\n",
       "      <td>NaN</td>\n",
       "      <td>NaN</td>\n",
       "      <td>NaN</td>\n",
       "    </tr>\n",
       "    <tr>\n",
       "      <th>1951-01-14</th>\n",
       "      <td>NaN</td>\n",
       "      <td>-10.6</td>\n",
       "      <td>-6.4</td>\n",
       "      <td>0.5</td>\n",
       "      <td>NaN</td>\n",
       "      <td>NaN</td>\n",
       "      <td>NaN</td>\n",
       "      <td>NaN</td>\n",
       "      <td>NaN</td>\n",
       "      <td>NaN</td>\n",
       "    </tr>\n",
       "    <tr>\n",
       "      <th>1952-02-02</th>\n",
       "      <td>NaN</td>\n",
       "      <td>-11.0</td>\n",
       "      <td>0.9</td>\n",
       "      <td>10.8</td>\n",
       "      <td>NaN</td>\n",
       "      <td>NaN</td>\n",
       "      <td>NaN</td>\n",
       "      <td>NaN</td>\n",
       "      <td>NaN</td>\n",
       "      <td>NaN</td>\n",
       "    </tr>\n",
       "    <tr>\n",
       "      <th>1952-12-22</th>\n",
       "      <td>NaN</td>\n",
       "      <td>-11.8</td>\n",
       "      <td>-6.9</td>\n",
       "      <td>0.3</td>\n",
       "      <td>NaN</td>\n",
       "      <td>NaN</td>\n",
       "      <td>NaN</td>\n",
       "      <td>NaN</td>\n",
       "      <td>NaN</td>\n",
       "      <td>NaN</td>\n",
       "    </tr>\n",
       "    <tr>\n",
       "      <th>1954-01-23</th>\n",
       "      <td>-7.8</td>\n",
       "      <td>-11.6</td>\n",
       "      <td>-5.3</td>\n",
       "      <td>0.1</td>\n",
       "      <td>NaN</td>\n",
       "      <td>NaN</td>\n",
       "      <td>NaN</td>\n",
       "      <td>NaN</td>\n",
       "      <td>NaN</td>\n",
       "      <td>NaN</td>\n",
       "    </tr>\n",
       "    <tr>\n",
       "      <th>...</th>\n",
       "      <td>...</td>\n",
       "      <td>...</td>\n",
       "      <td>...</td>\n",
       "      <td>...</td>\n",
       "      <td>...</td>\n",
       "      <td>...</td>\n",
       "      <td>...</td>\n",
       "      <td>...</td>\n",
       "      <td>...</td>\n",
       "      <td>...</td>\n",
       "    </tr>\n",
       "    <tr>\n",
       "      <th>2014-02-08</th>\n",
       "      <td>-4.5</td>\n",
       "      <td>-10.2</td>\n",
       "      <td>-3.4</td>\n",
       "      <td>NaN</td>\n",
       "      <td>119.0</td>\n",
       "      <td>59.0</td>\n",
       "      <td>11.7</td>\n",
       "      <td>NaN</td>\n",
       "      <td>1023.0</td>\n",
       "      <td>NaN</td>\n",
       "    </tr>\n",
       "    <tr>\n",
       "      <th>2018-01-25</th>\n",
       "      <td>-4.9</td>\n",
       "      <td>-10.1</td>\n",
       "      <td>-3.0</td>\n",
       "      <td>1.0</td>\n",
       "      <td>61.0</td>\n",
       "      <td>315.0</td>\n",
       "      <td>24.9</td>\n",
       "      <td>NaN</td>\n",
       "      <td>999.2</td>\n",
       "      <td>NaN</td>\n",
       "    </tr>\n",
       "    <tr>\n",
       "      <th>2019-02-08</th>\n",
       "      <td>-9.7</td>\n",
       "      <td>-11.1</td>\n",
       "      <td>-8.7</td>\n",
       "      <td>1.5</td>\n",
       "      <td>160.0</td>\n",
       "      <td>311.0</td>\n",
       "      <td>27.9</td>\n",
       "      <td>NaN</td>\n",
       "      <td>1014.0</td>\n",
       "      <td>NaN</td>\n",
       "    </tr>\n",
       "    <tr>\n",
       "      <th>2019-02-09</th>\n",
       "      <td>-6.8</td>\n",
       "      <td>-10.6</td>\n",
       "      <td>-4.0</td>\n",
       "      <td>NaN</td>\n",
       "      <td>150.0</td>\n",
       "      <td>314.0</td>\n",
       "      <td>19.0</td>\n",
       "      <td>NaN</td>\n",
       "      <td>1018.9</td>\n",
       "      <td>NaN</td>\n",
       "    </tr>\n",
       "    <tr>\n",
       "      <th>2023-01-24</th>\n",
       "      <td>-9.7</td>\n",
       "      <td>-11.4</td>\n",
       "      <td>-5.6</td>\n",
       "      <td>2.0</td>\n",
       "      <td>NaN</td>\n",
       "      <td>320.0</td>\n",
       "      <td>21.2</td>\n",
       "      <td>NaN</td>\n",
       "      <td>1004.2</td>\n",
       "      <td>NaN</td>\n",
       "    </tr>\n",
       "  </tbody>\n",
       "</table>\n",
       "<p>65 rows × 10 columns</p>\n",
       "</div>"
      ]
     },
     "execution_count": 25,
     "metadata": {},
     "output_type": "execute_result"
    }
   ],
   "execution_count": 25
  },
  {
   "cell_type": "markdown",
   "id": "2e6d37ff-b824-4d80-a621-55783a6d4e54",
   "metadata": {
    "editable": true,
    "slideshow": {
     "slide_type": ""
    },
    "tags": []
   },
   "source": [
    "<br>\n",
    "\n",
    "_Еще раз по порядку_:  \n",
    "`daily_data['tmin'] < -30` возвращает ряд булевых значений, который затем передается в  \n",
    "`daily_data[...]` на место многоточия и играет роль фильтра по строкам"
   ]
  },
  {
   "cell_type": "markdown",
   "id": "ebb866df-cedf-431c-9070-4f9d484cc3bd",
   "metadata": {
    "editable": true,
    "slideshow": {
     "slide_type": ""
    },
    "tags": []
   },
   "source": [
    "Таким же образом можно убрать строки с пустым значением параметра, который нас интересует"
   ]
  },
  {
   "cell_type": "code",
   "id": "0c5aa954-0140-4bb7-970b-9c532eda2873",
   "metadata": {
    "editable": true,
    "slideshow": {
     "slide_type": ""
    },
    "tags": [],
    "ExecuteTime": {
     "end_time": "2025-03-13T12:56:14.255049Z",
     "start_time": "2025-03-13T12:56:14.240560Z"
    }
   },
   "source": [
    "daily_data[~np.isnan(daily_data['tmin'])]"
   ],
   "outputs": [
    {
     "data": {
      "text/plain": [
       "            tavg  tmin  tmax  prcp  snow   wdir  wspd  wpgt    pres  tsun\n",
       "time                                                                     \n",
       "1951-01-01   NaN  -7.0  -3.8   8.3   NaN    NaN   NaN   NaN     NaN   NaN\n",
       "1951-01-02   NaN  -6.3  -1.9   1.4   NaN    NaN   NaN   NaN     NaN   NaN\n",
       "1951-01-03   NaN  -6.2  -3.9   2.5   NaN    NaN   NaN   NaN     NaN   NaN\n",
       "1951-01-04   NaN  -8.6  -5.5   0.7   NaN    NaN   NaN   NaN     NaN   NaN\n",
       "1951-01-05   NaN  -9.6  -7.0   3.5   NaN    NaN   NaN   NaN     NaN   NaN\n",
       "...          ...   ...   ...   ...   ...    ...   ...   ...     ...   ...\n",
       "2024-09-10  23.3  19.5  25.5   NaN   NaN   96.0  11.9   NaN  1016.6   NaN\n",
       "2024-09-11  20.6  19.7  24.0   0.5   NaN  303.0  15.1   NaN  1015.9   NaN\n",
       "2024-09-12  21.3  19.2  25.6   NaN   NaN  310.0  14.8   NaN  1015.0   NaN\n",
       "2024-09-14  20.3  15.1  22.0   NaN   NaN    NaN   NaN   NaN     NaN   NaN\n",
       "2024-09-16  20.2  13.3  22.2   NaN   NaN    NaN   NaN   NaN     NaN   NaN\n",
       "\n",
       "[25674 rows x 10 columns]"
      ],
      "text/html": [
       "<div>\n",
       "<style scoped>\n",
       "    .dataframe tbody tr th:only-of-type {\n",
       "        vertical-align: middle;\n",
       "    }\n",
       "\n",
       "    .dataframe tbody tr th {\n",
       "        vertical-align: top;\n",
       "    }\n",
       "\n",
       "    .dataframe thead th {\n",
       "        text-align: right;\n",
       "    }\n",
       "</style>\n",
       "<table border=\"1\" class=\"dataframe\">\n",
       "  <thead>\n",
       "    <tr style=\"text-align: right;\">\n",
       "      <th></th>\n",
       "      <th>tavg</th>\n",
       "      <th>tmin</th>\n",
       "      <th>tmax</th>\n",
       "      <th>prcp</th>\n",
       "      <th>snow</th>\n",
       "      <th>wdir</th>\n",
       "      <th>wspd</th>\n",
       "      <th>wpgt</th>\n",
       "      <th>pres</th>\n",
       "      <th>tsun</th>\n",
       "    </tr>\n",
       "    <tr>\n",
       "      <th>time</th>\n",
       "      <th></th>\n",
       "      <th></th>\n",
       "      <th></th>\n",
       "      <th></th>\n",
       "      <th></th>\n",
       "      <th></th>\n",
       "      <th></th>\n",
       "      <th></th>\n",
       "      <th></th>\n",
       "      <th></th>\n",
       "    </tr>\n",
       "  </thead>\n",
       "  <tbody>\n",
       "    <tr>\n",
       "      <th>1951-01-01</th>\n",
       "      <td>NaN</td>\n",
       "      <td>-7.0</td>\n",
       "      <td>-3.8</td>\n",
       "      <td>8.3</td>\n",
       "      <td>NaN</td>\n",
       "      <td>NaN</td>\n",
       "      <td>NaN</td>\n",
       "      <td>NaN</td>\n",
       "      <td>NaN</td>\n",
       "      <td>NaN</td>\n",
       "    </tr>\n",
       "    <tr>\n",
       "      <th>1951-01-02</th>\n",
       "      <td>NaN</td>\n",
       "      <td>-6.3</td>\n",
       "      <td>-1.9</td>\n",
       "      <td>1.4</td>\n",
       "      <td>NaN</td>\n",
       "      <td>NaN</td>\n",
       "      <td>NaN</td>\n",
       "      <td>NaN</td>\n",
       "      <td>NaN</td>\n",
       "      <td>NaN</td>\n",
       "    </tr>\n",
       "    <tr>\n",
       "      <th>1951-01-03</th>\n",
       "      <td>NaN</td>\n",
       "      <td>-6.2</td>\n",
       "      <td>-3.9</td>\n",
       "      <td>2.5</td>\n",
       "      <td>NaN</td>\n",
       "      <td>NaN</td>\n",
       "      <td>NaN</td>\n",
       "      <td>NaN</td>\n",
       "      <td>NaN</td>\n",
       "      <td>NaN</td>\n",
       "    </tr>\n",
       "    <tr>\n",
       "      <th>1951-01-04</th>\n",
       "      <td>NaN</td>\n",
       "      <td>-8.6</td>\n",
       "      <td>-5.5</td>\n",
       "      <td>0.7</td>\n",
       "      <td>NaN</td>\n",
       "      <td>NaN</td>\n",
       "      <td>NaN</td>\n",
       "      <td>NaN</td>\n",
       "      <td>NaN</td>\n",
       "      <td>NaN</td>\n",
       "    </tr>\n",
       "    <tr>\n",
       "      <th>1951-01-05</th>\n",
       "      <td>NaN</td>\n",
       "      <td>-9.6</td>\n",
       "      <td>-7.0</td>\n",
       "      <td>3.5</td>\n",
       "      <td>NaN</td>\n",
       "      <td>NaN</td>\n",
       "      <td>NaN</td>\n",
       "      <td>NaN</td>\n",
       "      <td>NaN</td>\n",
       "      <td>NaN</td>\n",
       "    </tr>\n",
       "    <tr>\n",
       "      <th>...</th>\n",
       "      <td>...</td>\n",
       "      <td>...</td>\n",
       "      <td>...</td>\n",
       "      <td>...</td>\n",
       "      <td>...</td>\n",
       "      <td>...</td>\n",
       "      <td>...</td>\n",
       "      <td>...</td>\n",
       "      <td>...</td>\n",
       "      <td>...</td>\n",
       "    </tr>\n",
       "    <tr>\n",
       "      <th>2024-09-10</th>\n",
       "      <td>23.3</td>\n",
       "      <td>19.5</td>\n",
       "      <td>25.5</td>\n",
       "      <td>NaN</td>\n",
       "      <td>NaN</td>\n",
       "      <td>96.0</td>\n",
       "      <td>11.9</td>\n",
       "      <td>NaN</td>\n",
       "      <td>1016.6</td>\n",
       "      <td>NaN</td>\n",
       "    </tr>\n",
       "    <tr>\n",
       "      <th>2024-09-11</th>\n",
       "      <td>20.6</td>\n",
       "      <td>19.7</td>\n",
       "      <td>24.0</td>\n",
       "      <td>0.5</td>\n",
       "      <td>NaN</td>\n",
       "      <td>303.0</td>\n",
       "      <td>15.1</td>\n",
       "      <td>NaN</td>\n",
       "      <td>1015.9</td>\n",
       "      <td>NaN</td>\n",
       "    </tr>\n",
       "    <tr>\n",
       "      <th>2024-09-12</th>\n",
       "      <td>21.3</td>\n",
       "      <td>19.2</td>\n",
       "      <td>25.6</td>\n",
       "      <td>NaN</td>\n",
       "      <td>NaN</td>\n",
       "      <td>310.0</td>\n",
       "      <td>14.8</td>\n",
       "      <td>NaN</td>\n",
       "      <td>1015.0</td>\n",
       "      <td>NaN</td>\n",
       "    </tr>\n",
       "    <tr>\n",
       "      <th>2024-09-14</th>\n",
       "      <td>20.3</td>\n",
       "      <td>15.1</td>\n",
       "      <td>22.0</td>\n",
       "      <td>NaN</td>\n",
       "      <td>NaN</td>\n",
       "      <td>NaN</td>\n",
       "      <td>NaN</td>\n",
       "      <td>NaN</td>\n",
       "      <td>NaN</td>\n",
       "      <td>NaN</td>\n",
       "    </tr>\n",
       "    <tr>\n",
       "      <th>2024-09-16</th>\n",
       "      <td>20.2</td>\n",
       "      <td>13.3</td>\n",
       "      <td>22.2</td>\n",
       "      <td>NaN</td>\n",
       "      <td>NaN</td>\n",
       "      <td>NaN</td>\n",
       "      <td>NaN</td>\n",
       "      <td>NaN</td>\n",
       "      <td>NaN</td>\n",
       "      <td>NaN</td>\n",
       "    </tr>\n",
       "  </tbody>\n",
       "</table>\n",
       "<p>25674 rows × 10 columns</p>\n",
       "</div>"
      ]
     },
     "execution_count": 26,
     "metadata": {},
     "output_type": "execute_result"
    }
   ],
   "execution_count": 26
  },
  {
   "cell_type": "markdown",
   "id": "c18260b5-cea1-4bb8-9eab-d4dbb15dd381",
   "metadata": {
    "editable": true,
    "slideshow": {
     "slide_type": ""
    },
    "tags": []
   },
   "source": [
    "<br>\n",
    "\n",
    "`np.isnan` возвращает `True` для значений `NaN`  \n",
    "Оператор `~` инвертирует полученные булевы значения"
   ]
  },
  {
   "cell_type": "markdown",
   "id": "899035f3-a37e-4e2e-a8b3-1bbefdb349ee",
   "metadata": {
    "editable": true,
    "slideshow": {
     "slide_type": ""
    },
    "tags": []
   },
   "source": [
    "<center>⭐⭐</center>"
   ]
  },
  {
   "cell_type": "markdown",
   "id": "d60cbf0e-e8a2-464d-9801-2ac6b869e70b",
   "metadata": {
    "editable": true,
    "slideshow": {
     "slide_type": ""
    },
    "tags": []
   },
   "source": [
    "Вычислите, сколько дней в период с __1 января 1990 года__ по __31 декабря 2010 года__ средняя температура:\n",
    "1. поднималась выше 20 градусов\n",
    "2. опускалась ниже 0 градусов\n",
    "3. не измерялась"
   ]
  },
  {
   "cell_type": "code",
   "id": "b495b644-5398-4fe2-bcef-80d42937ea11",
   "metadata": {
    "editable": true,
    "slideshow": {
     "slide_type": ""
    },
    "tags": [],
    "ExecuteTime": {
     "end_time": "2025-03-13T12:56:30.231057Z",
     "start_time": "2025-03-13T12:56:30.224477Z"
    }
   },
   "source": [
    "tmp = daily_data['1990-01-01':'2010-12-31']\n",
    "print(len(tmp[tmp['tavg'] > 20]))\n",
    "print(len(tmp[tmp['tavg'] < 0]))\n",
    "print(len(tmp[np.isnan(tmp['tavg'])]))"
   ],
   "outputs": [
    {
     "name": "stdout",
     "output_type": "stream",
     "text": [
      "620\n",
      "1338\n",
      "2\n"
     ]
    }
   ],
   "execution_count": 28
  },
  {
   "cell_type": "markdown",
   "id": "1eca0f47-b4e2-4d1f-becd-b7c5f3bbe0e3",
   "metadata": {
    "editable": true,
    "slideshow": {
     "slide_type": ""
    },
    "tags": []
   },
   "source": [
    "<center>💫</center>"
   ]
  },
  {
   "cell_type": "markdown",
   "id": "370e9e48-2c4d-44ba-ac9a-614e985dab3d",
   "metadata": {
    "editable": true,
    "slideshow": {
     "slide_type": ""
    },
    "tags": []
   },
   "source": [
    "<H3>1.3. Агрегирование данных"
   ]
  },
  {
   "cell_type": "markdown",
   "id": "699f2db6-19f5-4dd4-87dc-20cf2242b915",
   "metadata": {
    "editable": true,
    "slideshow": {
     "slide_type": ""
    },
    "tags": []
   },
   "source": [
    "Посчитаем минимальную, максимальную и среднюю температуру за все время работы станции"
   ]
  },
  {
   "cell_type": "code",
   "id": "bfa70804-cb10-4ed8-b439-dee3cc91f137",
   "metadata": {
    "editable": true,
    "slideshow": {
     "slide_type": ""
    },
    "tags": [],
    "ExecuteTime": {
     "end_time": "2025-03-13T07:35:58.489474Z",
     "start_time": "2025-03-13T07:35:58.484148Z"
    }
   },
   "source": [
    "daily_data['tmin'].min()"
   ],
   "outputs": [
    {
     "data": {
      "text/plain": [
       "np.float64(-13.4)"
      ]
     },
     "execution_count": 16,
     "metadata": {},
     "output_type": "execute_result"
    }
   ],
   "execution_count": 16
  },
  {
   "cell_type": "code",
   "id": "63cec653-2fa5-461e-81bb-2e4613941910",
   "metadata": {
    "editable": true,
    "slideshow": {
     "slide_type": ""
    },
    "tags": [],
    "ExecuteTime": {
     "end_time": "2025-03-13T07:36:00.051919Z",
     "start_time": "2025-03-13T07:36:00.046101Z"
    }
   },
   "source": [
    "daily_data['tmax'].max()"
   ],
   "outputs": [
    {
     "data": {
      "text/plain": [
       "np.float64(32.2)"
      ]
     },
     "execution_count": 17,
     "metadata": {},
     "output_type": "execute_result"
    }
   ],
   "execution_count": 17
  },
  {
   "cell_type": "code",
   "id": "c6d04427-b729-434d-95ef-5a843ae88754",
   "metadata": {
    "editable": true,
    "slideshow": {
     "slide_type": ""
    },
    "tags": [],
    "ExecuteTime": {
     "end_time": "2025-03-13T07:36:02.129223Z",
     "start_time": "2025-03-13T07:36:02.124669Z"
    }
   },
   "source": [
    "daily_data['tavg'].mean()"
   ],
   "outputs": [
    {
     "data": {
      "text/plain": [
       "np.float64(8.707080255127794)"
      ]
     },
     "execution_count": 18,
     "metadata": {},
     "output_type": "execute_result"
    }
   ],
   "execution_count": 18
  },
  {
   "cell_type": "markdown",
   "id": "7e39fff8-d6c0-4cc7-80db-f8be558fabbc",
   "metadata": {
    "editable": true,
    "slideshow": {
     "slide_type": ""
    },
    "tags": []
   },
   "source": [
    "<br>\n",
    "\n",
    "А теперь за определенный промежуток времени"
   ]
  },
  {
   "cell_type": "code",
   "id": "bd1b207d-7536-4281-be45-7012b148c85f",
   "metadata": {
    "editable": true,
    "slideshow": {
     "slide_type": ""
    },
    "tags": [],
    "ExecuteTime": {
     "end_time": "2025-03-13T07:36:05.129431Z",
     "start_time": "2025-03-13T07:36:05.122206Z"
    }
   },
   "source": [
    "daily_data['2000-01-01':'2005-12-31']['tmin'].min()"
   ],
   "outputs": [
    {
     "data": {
      "text/plain": [
       "np.float64(-12.1)"
      ]
     },
     "execution_count": 19,
     "metadata": {},
     "output_type": "execute_result"
    }
   ],
   "execution_count": 19
  },
  {
   "cell_type": "code",
   "id": "13993130-d1fd-442b-b297-8e8f06cb7324",
   "metadata": {
    "editable": true,
    "slideshow": {
     "slide_type": ""
    },
    "tags": [],
    "ExecuteTime": {
     "end_time": "2025-03-13T07:36:06.542316Z",
     "start_time": "2025-03-13T07:36:06.536105Z"
    }
   },
   "source": [
    "daily_data['2000-01-01':'2005-12-31']['tmax'].max()"
   ],
   "outputs": [
    {
     "data": {
      "text/plain": [
       "np.float64(29.5)"
      ]
     },
     "execution_count": 20,
     "metadata": {},
     "output_type": "execute_result"
    }
   ],
   "execution_count": 20
  },
  {
   "cell_type": "code",
   "id": "789b7915-6af6-498b-b3bf-92c31fe3e451",
   "metadata": {
    "editable": true,
    "slideshow": {
     "slide_type": ""
    },
    "tags": [],
    "ExecuteTime": {
     "end_time": "2025-03-13T07:36:08.805297Z",
     "start_time": "2025-03-13T07:36:08.798932Z"
    }
   },
   "source": [
    "daily_data['2000-01-01':'2005-12-31']['tavg'].mean()"
   ],
   "outputs": [
    {
     "data": {
      "text/plain": [
       "np.float64(8.304416761041903)"
      ]
     },
     "execution_count": 21,
     "metadata": {},
     "output_type": "execute_result"
    }
   ],
   "execution_count": 21
  },
  {
   "cell_type": "markdown",
   "id": "eb0c3153-41e3-4c15-99d2-693b4e219e09",
   "metadata": {
    "editable": true,
    "slideshow": {
     "slide_type": ""
    },
    "tags": []
   },
   "source": [
    "<br>\n",
    "\n",
    "А теперь разобьем время на недельные интервалы и посчитаем среднюю температуру на каждой неделе  \n",
    "\n",
    "`for i in...`  \n",
    "_Нет!_  \n",
    "\n",
    "Для этого тоже есть отдельная функция"
   ]
  },
  {
   "cell_type": "code",
   "id": "6b990566-df99-4cb8-bb59-8ee725d25889",
   "metadata": {
    "editable": true,
    "slideshow": {
     "slide_type": ""
    },
    "tags": [],
    "ExecuteTime": {
     "end_time": "2025-03-13T07:36:16.538585Z",
     "start_time": "2025-03-13T07:36:16.500716Z"
    }
   },
   "source": [
    "daily_data.resample('W')['tavg'].mean()        # 'W' означает, что период времени для группировки - неделя"
   ],
   "outputs": [
    {
     "data": {
      "text/plain": [
       "time\n",
       "1951-01-07          NaN\n",
       "1951-01-14          NaN\n",
       "1951-01-21          NaN\n",
       "1951-01-28          NaN\n",
       "1951-02-04          NaN\n",
       "                ...    \n",
       "2024-08-25    23.400000\n",
       "2024-09-01          NaN\n",
       "2024-09-08    22.471429\n",
       "2024-09-15    20.950000\n",
       "2024-09-22    20.250000\n",
       "Freq: W-SUN, Name: tavg, Length: 3847, dtype: float64"
      ]
     },
     "execution_count": 22,
     "metadata": {},
     "output_type": "execute_result"
    }
   ],
   "execution_count": 22
  },
  {
   "cell_type": "markdown",
   "id": "480b3447-9526-4ce5-91ee-3c3c46d8de97",
   "metadata": {
    "editable": true,
    "slideshow": {
     "slide_type": ""
    },
    "tags": []
   },
   "source": [
    "<center>⭐</center>"
   ]
  },
  {
   "cell_type": "markdown",
   "id": "822fbd02-e5ad-4078-ba7b-5b76b25ca965",
   "metadata": {
    "editable": true,
    "slideshow": {
     "slide_type": ""
    },
    "tags": []
   },
   "source": [
    "Получите данные о среднем значении температуры за каждый месяц с помощью метода `resample`  \n",
    "Сравните их с данными в таблице `monthly_data`  \n",
    "Выведите строки таблицы `monthly_data`, в которых данные отличаются  \n",
    "При необходимости введите допустимую погрешность\n",
    "\n",
    "_Используйте `'ME'` в качестве аргумента для метода `resample`_"
   ]
  },
  {
   "cell_type": "code",
   "id": "cdae747e-28b9-4376-8a75-c5e80b503fa7",
   "metadata": {
    "editable": true,
    "slideshow": {
     "slide_type": ""
    },
    "tags": [],
    "ExecuteTime": {
     "end_time": "2025-03-13T12:57:34.076837Z",
     "start_time": "2025-03-13T12:57:34.068095Z"
    }
   },
   "source": [
    "# Средняя температура за каждый месяц (аргумент 'MS')\n",
    "monthly_avg = daily_data.resample('MS')['tavg'].mean()  \n",
    "monthly_avg"
   ],
   "outputs": [
    {
     "data": {
      "text/plain": [
       "time\n",
       "1951-01-01          NaN\n",
       "1951-02-01          NaN\n",
       "1951-03-01          NaN\n",
       "1951-04-01          NaN\n",
       "1951-05-01          NaN\n",
       "                ...    \n",
       "2024-05-01    12.996552\n",
       "2024-06-01    17.146667\n",
       "2024-07-01    21.786667\n",
       "2024-08-01    23.650000\n",
       "2024-09-01    21.566667\n",
       "Freq: MS, Name: tavg, Length: 885, dtype: float64"
      ]
     },
     "execution_count": 31,
     "metadata": {},
     "output_type": "execute_result"
    }
   ],
   "execution_count": 31
  },
  {
   "cell_type": "code",
   "id": "2bf343fd-17c6-48a1-9a7f-79bcc02047fa",
   "metadata": {
    "ExecuteTime": {
     "end_time": "2025-03-13T12:57:38.145446Z",
     "start_time": "2025-03-13T12:57:38.129103Z"
    }
   },
   "source": [
    "# Загрузка данных из CSV-файла в таблицу monthly_data\n",
    "monthly_data = pd.read_csv(monthly_data_path)\n",
    "# Преобразование столбца 'time' в формат datetime\n",
    "monthly_data['time'] = pd.to_datetime(monthly_data['time'])\n",
    "# Установка столбца 'time' в качестве индекса таблицы\n",
    "monthly_data = monthly_data.set_index('time')\n",
    "# Проверяем, различаются ли полученные данные с помощью метода resample оот данных в таблице monthly_data\n",
    "diff = np.abs(monthly_data['tavg'] - monthly_avg)\n",
    "monthly_data[diff > 0.1]"
   ],
   "outputs": [
    {
     "name": "stderr",
     "output_type": "stream",
     "text": [
      "/var/folders/d5/pxppl6cj7rsbtxf0_ymgvqkh0000gn/T/ipykernel_22188/1310862624.py:9: UserWarning: Boolean Series key will be reindexed to match DataFrame index.\n",
      "  monthly_data[diff > 0.1]\n"
     ]
    },
    {
     "data": {
      "text/plain": [
       "            tavg  tmin  tmax  prcp  wspd  pres  tsun\n",
       "time                                                \n",
       "1956-11-01   5.7   3.6   8.0  72.6   NaN   NaN   NaN\n",
       "1959-01-01  -3.1  -5.5  -0.6  84.6   NaN   NaN   NaN"
      ],
      "text/html": [
       "<div>\n",
       "<style scoped>\n",
       "    .dataframe tbody tr th:only-of-type {\n",
       "        vertical-align: middle;\n",
       "    }\n",
       "\n",
       "    .dataframe tbody tr th {\n",
       "        vertical-align: top;\n",
       "    }\n",
       "\n",
       "    .dataframe thead th {\n",
       "        text-align: right;\n",
       "    }\n",
       "</style>\n",
       "<table border=\"1\" class=\"dataframe\">\n",
       "  <thead>\n",
       "    <tr style=\"text-align: right;\">\n",
       "      <th></th>\n",
       "      <th>tavg</th>\n",
       "      <th>tmin</th>\n",
       "      <th>tmax</th>\n",
       "      <th>prcp</th>\n",
       "      <th>wspd</th>\n",
       "      <th>pres</th>\n",
       "      <th>tsun</th>\n",
       "    </tr>\n",
       "    <tr>\n",
       "      <th>time</th>\n",
       "      <th></th>\n",
       "      <th></th>\n",
       "      <th></th>\n",
       "      <th></th>\n",
       "      <th></th>\n",
       "      <th></th>\n",
       "      <th></th>\n",
       "    </tr>\n",
       "  </thead>\n",
       "  <tbody>\n",
       "    <tr>\n",
       "      <th>1956-11-01</th>\n",
       "      <td>5.7</td>\n",
       "      <td>3.6</td>\n",
       "      <td>8.0</td>\n",
       "      <td>72.6</td>\n",
       "      <td>NaN</td>\n",
       "      <td>NaN</td>\n",
       "      <td>NaN</td>\n",
       "    </tr>\n",
       "    <tr>\n",
       "      <th>1959-01-01</th>\n",
       "      <td>-3.1</td>\n",
       "      <td>-5.5</td>\n",
       "      <td>-0.6</td>\n",
       "      <td>84.6</td>\n",
       "      <td>NaN</td>\n",
       "      <td>NaN</td>\n",
       "      <td>NaN</td>\n",
       "    </tr>\n",
       "  </tbody>\n",
       "</table>\n",
       "</div>"
      ]
     },
     "execution_count": 32,
     "metadata": {},
     "output_type": "execute_result"
    }
   ],
   "execution_count": 32
  },
  {
   "cell_type": "markdown",
   "id": "bd40ae30-1e65-48d3-a768-f82e55ed9ff3",
   "metadata": {
    "editable": true,
    "slideshow": {
     "slide_type": ""
    },
    "tags": []
   },
   "source": [
    "<center>💫</center>"
   ]
  },
  {
   "cell_type": "markdown",
   "id": "7bad644c-72f7-4b60-b050-591c9664c9a8",
   "metadata": {
    "editable": true,
    "slideshow": {
     "slide_type": ""
    },
    "tags": []
   },
   "source": [
    "<H3>1.4. Построение графиков"
   ]
  },
  {
   "cell_type": "markdown",
   "id": "1fc75e7c-aecc-4310-a4ff-555b9f33ee68",
   "metadata": {
    "editable": true,
    "slideshow": {
     "slide_type": ""
    },
    "tags": []
   },
   "source": [
    "На прошлой лабораторной работе мы уже познакомились с модулем `matplotlib`  \n",
    "Однако сейчас нам не понадобится с ним работать - за нас это сделает `pandas`"
   ]
  },
  {
   "cell_type": "code",
   "id": "701a9c07-389c-4008-a711-6e8dc5d413bd",
   "metadata": {
    "editable": true,
    "slideshow": {
     "slide_type": ""
    },
    "tags": [],
    "ExecuteTime": {
     "end_time": "2025-03-13T07:39:10.483181Z",
     "start_time": "2025-03-13T07:39:10.340281Z"
    }
   },
   "source": [
    "daily_data['tavg'].plot()"
   ],
   "outputs": [
    {
     "data": {
      "text/plain": [
       "<Axes: xlabel='time'>"
      ]
     },
     "execution_count": 27,
     "metadata": {},
     "output_type": "execute_result"
    },
    {
     "data": {
      "text/plain": [
       "<Figure size 640x480 with 1 Axes>"
      ],
      "image/png": "[encoded data removed]"
     },
     "metadata": {},
     "output_type": "display_data"
    }
   ],
   "execution_count": 27
  },
  {
   "cell_type": "markdown",
   "id": "579f06d7-a344-49c0-93ff-4f4de6f68477",
   "metadata": {
    "editable": true,
    "slideshow": {
     "slide_type": ""
    },
    "tags": []
   },
   "source": [
    "Кажется, на графике слишком много точек  \n",
    "Обратимся к `resample`"
   ]
  },
  {
   "cell_type": "code",
   "id": "e69a81da-221e-4253-9d0a-e1f32d9a6246",
   "metadata": {
    "editable": true,
    "slideshow": {
     "slide_type": ""
    },
    "tags": [],
    "ExecuteTime": {
     "end_time": "2025-03-13T12:57:17.694639Z",
     "start_time": "2025-03-13T12:57:17.449844Z"
    }
   },
   "source": "daily_data.resample('YE')['tavg'].mean().plot()",
   "outputs": [
    {
     "data": {
      "text/plain": [
       "<Axes: xlabel='time'>"
      ]
     },
     "execution_count": 29,
     "metadata": {},
     "output_type": "execute_result"
    },
    {
     "data": {
      "text/plain": [
       "<Figure size 640x480 with 1 Axes>"
      ],
      "image/png": "[encoded data removed]"
     },
     "metadata": {},
     "output_type": "display_data"
    }
   ],
   "execution_count": 29
  },
  {
   "cell_type": "markdown",
   "id": "c98da039-2e1e-412d-985e-751d84860b90",
   "metadata": {
    "editable": true,
    "slideshow": {
     "slide_type": ""
    },
    "tags": []
   },
   "source": [
    "<br>\n",
    "\n",
    "_Обратите внимание, что графики строятся с помощью модуля `matplotlib`, хоть мы и не обращаемся к нему напрямую_  \n",
    "_При желании можно его использовать, чтобы поменять настройки (тип линии, цвет, оси, шрифт и т.п.)_"
   ]
  },
  {
   "cell_type": "markdown",
   "id": "bc584994-53f9-4533-8cc0-5a0ae448a585",
   "metadata": {
    "editable": true,
    "slideshow": {
     "slide_type": ""
    },
    "tags": []
   },
   "source": [
    "<center>⭐⭐</center>"
   ]
  },
  {
   "cell_type": "markdown",
   "id": "55b95e7b-6bea-439f-8ce7-1f78d47d0d4d",
   "metadata": {
    "editable": true,
    "slideshow": {
     "slide_type": ""
    },
    "tags": []
   },
   "source": [
    "По имеющимся данным постарайтесь определить, в какой стране (или регионе) находится ваша метеорологическая станция  \n",
    "Для этого постройте 3 графика, которые посчитаете информативными  \n",
    "Другие методы обработки данных также разрешаются\n",
    "Обратите внимание на то, что таблицы заполнены не полностью - некоторых данных у вас может не быть  \n",
    "\n",
    "_Если вы выполняете лабораторную работу в аудитории, это задание является командным - следуйте инструкции преподавателя_  \n",
    "_Оценивается не точность выполнения, а наличие построенных графиков и логики в рассуждениях_"
   ]
  },
  {
   "cell_type": "code",
   "id": "13f14ce0-c743-4ee2-b8e0-a9d5f27f4f8c",
   "metadata": {
    "editable": true,
    "slideshow": {
     "slide_type": ""
    },
    "tags": [],
    "ExecuteTime": {
     "end_time": "2025-03-13T12:57:43.290383Z",
     "start_time": "2025-03-13T12:57:43.222155Z"
    }
   },
   "source": "monthly_data.resample('YE')['tmin'].min().plot()",
   "outputs": [
    {
     "data": {
      "text/plain": [
       "<Axes: xlabel='time'>"
      ]
     },
     "execution_count": 33,
     "metadata": {},
     "output_type": "execute_result"
    },
    {
     "data": {
      "text/plain": [
       "<Figure size 640x480 with 1 Axes>"
      ],
      "image/png": "[encoded data removed]"
     },
     "metadata": {},
     "output_type": "display_data"
    }
   ],
   "execution_count": 33
  },
  {
   "cell_type": "code",
   "id": "5c220a9f-64ae-4586-b0f7-8aa455010a86",
   "metadata": {
    "editable": true,
    "slideshow": {
     "slide_type": ""
    },
    "tags": [],
    "ExecuteTime": {
     "end_time": "2025-03-13T12:57:48.590698Z",
     "start_time": "2025-03-13T12:57:48.508524Z"
    }
   },
   "source": "daily_data.resample('YE')['snow'].mean().plot()",
   "outputs": [
    {
     "data": {
      "text/plain": [
       "<Axes: xlabel='time'>"
      ]
     },
     "execution_count": 35,
     "metadata": {},
     "output_type": "execute_result"
    },
    {
     "data": {
      "text/plain": [
       "<Figure size 640x480 with 1 Axes>"
      ],
      "image/png": "[encoded data removed]"
     },
     "metadata": {},
     "output_type": "display_data"
    }
   ],
   "execution_count": 35
  },
  {
   "cell_type": "code",
   "id": "47382a39-9392-42c1-ba53-bad9044bc845",
   "metadata": {
    "editable": true,
    "slideshow": {
     "slide_type": ""
    },
    "tags": [],
    "ExecuteTime": {
     "end_time": "2025-03-13T12:57:53.535479Z",
     "start_time": "2025-03-13T12:57:53.412869Z"
    }
   },
   "source": "daily_data['1990-01-01':'2020-12-31'].resample('YE')['pres'].mean().plot()",
   "outputs": [
    {
     "data": {
      "text/plain": [
       "<Axes: xlabel='time'>"
      ]
     },
     "execution_count": 36,
     "metadata": {},
     "output_type": "execute_result"
    },
    {
     "data": {
      "text/plain": [
       "<Figure size 640x480 with 1 Axes>"
      ],
      "image/png": "[encoded data removed]"
     },
     "metadata": {},
     "output_type": "display_data"
    }
   ],
   "execution_count": 36
  },
  {
   "cell_type": "markdown",
   "id": "f056d0ed-f613-4869-8bb3-24261cb62d4b",
   "metadata": {
    "editable": true,
    "slideshow": {
     "slide_type": ""
    },
    "tags": []
   },
   "source": []
  },
  {
   "cell_type": "markdown",
   "id": "40d8b505-ab03-4ff7-b304-b46e154ddbdf",
   "metadata": {
    "editable": true,
    "slideshow": {
     "slide_type": ""
    },
    "tags": []
   },
   "source": [
    "<center>💫</center>"
   ]
  },
  {
   "cell_type": "markdown",
   "id": "96cc53d9-c433-4329-83b7-1e7ed888a92d",
   "metadata": {
    "editable": true,
    "slideshow": {
     "slide_type": ""
    },
    "tags": []
   },
   "source": [
    "<H2>2. SQLite БД</H2>"
   ]
  },
  {
   "cell_type": "markdown",
   "id": "540c6f2f-4869-4c58-87ac-0aba277c17cc",
   "metadata": {
    "editable": true,
    "slideshow": {
     "slide_type": ""
    },
    "tags": []
   },
   "source": [
    "На прошлой лекции вам рассказывали про язык структурированных запросов SQL  \n",
    "В этой части лабораторной работы мы рассмотрим основы взаимодействия с базами данных с его использованием  \n",
    "В качестве СУБД мы будем использовать SQLite  \n",
    "\n",
    "Для работы с SQLite в Python используется встроенная библиотека sqlite3, доступная в виде одноименного модуля"
   ]
  },
  {
   "cell_type": "code",
   "id": "74c198d4-88c2-40ec-9813-e09099c75524",
   "metadata": {
    "editable": true,
    "slideshow": {
     "slide_type": ""
    },
    "tags": [],
    "ExecuteTime": {
     "end_time": "2025-03-13T11:47:55.994365Z",
     "start_time": "2025-03-13T11:47:55.984805Z"
    }
   },
   "source": [
    "import sqlite3"
   ],
   "outputs": [],
   "execution_count": 3
  },
  {
   "cell_type": "markdown",
   "id": "99725c51-c445-4e62-a69b-7d4cb6d8b102",
   "metadata": {
    "editable": true,
    "slideshow": {
     "slide_type": ""
    },
    "tags": []
   },
   "source": [
    "Для подключения к БД используется функция connect(), принимающий следующие аргументы:\n",
    "1. `database`\n",
    "2. `timeout`\n",
    "3. `detect_types`\n",
    "4. `isolation_level`\n",
    "5. `check_same_thread`\n",
    "6. `factory`\n",
    "7. `cached_statements`\n",
    "8. `uri`\n",
    "\n",
    "Обязательным аргументом является только путь к базе данных - `database`  \n",
    "По этой причине, чтобы лишний раз вас не путать, мы будем рассматривать только его  \n",
    "Про остальные аргументы вы можете прочитать самостоятельно  \n",
    "\n",
    "Результатом работы функции `connect()` будет объект подключения (объект класса `Connection`), через который можно взаимодействовать с БД:  \n",
    "\n",
    "`test_connection = sqlite3.connect(\"empty_bd\")`  \n",
    "\n",
    "Обратите внимание, что если вы указываете название/путь до файла, которого не существует, то будет создана пустая БД"
   ]
  },
  {
   "cell_type": "markdown",
   "id": "9645e535-d6f3-48d9-8519-536c20b3683a",
   "metadata": {
    "editable": true,
    "slideshow": {
     "slide_type": ""
    },
    "tags": []
   },
   "source": [
    "Для выполнения команд SQL и получения данных из БД необходимо создать курсор  \n",
    "Для этого вызывается метод `cursor()` класса `Connection`, возвращающий объект класса `Cursor`:  \n",
    "\n",
    "`test_cursor = test_connection.cursor()`\n",
    "\n",
    "Ниже приведены методы класса Cursor:\n",
    "1. `execute()` - выполняет одну SQL-инструкцию\n",
    "2. `executemany()` - выполняет параметризованную SQL-инструкцию\n",
    "3. `executescript()` - выполняет SQL-скрипт, который может содержать несколько инструкций\n",
    "4. `fetchone()` - возвращает одну строку в виде кортежа из полученного из БД набора строк\n",
    "5. `fetchmany()` - возвращает набор строк в виде списка\n",
    "6. `fetchall()` - возвращает все оставшиеся строки в виде списка; При отсутсвии строк возвращается пустой список  \n",
    "\n",
    "Прежде чем пойти дальше, стоит упомянуть о типах данных в SQLite  \n",
    "Они соотносятся с Python следующим образом:  \n",
    "None  - NULL  \n",
    "int   - INTEGER  \n",
    "float - REAL  \n",
    "str   - TEXT  \n",
    "bytes - BLOB  \n",
    "\n",
    "Теперь попробуем протестировать рассмотренные выше методы"
   ]
  },
  {
   "cell_type": "code",
   "id": "bf935db6-4fe1-4d5c-8e42-ae8c3f6af267",
   "metadata": {
    "editable": true,
    "slideshow": {
     "slide_type": ""
    },
    "tags": [],
    "ExecuteTime": {
     "end_time": "2025-03-13T07:39:45.338100Z",
     "start_time": "2025-03-13T07:39:45.330145Z"
    }
   },
   "source": [
    "connection = sqlite3.connect(r\"test.db\")\n",
    "cursor = connection.cursor()\n",
    "\n",
    "# создаем таблицу \"people\" с тремя столбцами: \n",
    "# id (тип INTEGER) - первичный ключ, значение которого будет увеличиваться с добавлением новых строк\n",
    "# name (тип TEXT) - строка, имя пользователя\n",
    "# age (тип INTEGER) - возраст пользователя\n",
    "cursor.execute(\"\"\"CREATE TABLE people\n",
    "                (id INTEGER PRIMARY KEY AUTOINCREMENT,  \n",
    "                name TEXT, \n",
    "                age INTEGER)\n",
    "               \"\"\")\n",
    "# в этой таблице пока нет данных\n",
    "connection.commit() # сохраняем изменения"
   ],
   "outputs": [],
   "execution_count": 35
  },
  {
   "cell_type": "code",
   "id": "77351a92-5eaf-4d42-b1e3-1d67e5f25528",
   "metadata": {
    "editable": true,
    "slideshow": {
     "slide_type": ""
    },
    "tags": [],
    "ExecuteTime": {
     "end_time": "2025-03-13T07:40:00.786244Z",
     "start_time": "2025-03-13T07:40:00.781234Z"
    }
   },
   "source": [
    "one_person = (\"Alice\", 20)\n",
    "# попробуем добавить данные об одном человеке в созданную таблицу\n",
    "# указываем название таблицы - в нашем случае это \"people\"\n",
    "cursor.execute(\"INSERT INTO people (name, age) VALUES (?, ?)\", one_person)\n",
    "connection.commit()"
   ],
   "outputs": [],
   "execution_count": 36
  },
  {
   "cell_type": "code",
   "id": "ec9e3ff7-d2ec-4724-a550-12232d7871df",
   "metadata": {
    "editable": true,
    "slideshow": {
     "slide_type": ""
    },
    "tags": [],
    "ExecuteTime": {
     "end_time": "2025-03-13T07:40:02.403720Z",
     "start_time": "2025-03-13T07:40:02.392248Z"
    }
   },
   "source": [
    "three_people = [(\"Chad\", 22), (\"Stacy\", 19), (\"Malvin\", 25), (\"Bob\", 51), (\"Ken\", 33), (\"Anna\", 41)]\n",
    "# метод executemany принимает, по сути, ту же самую SQL-инструкцию\n",
    "# но теперь, данные определены в виде списка кортежей, каждый из которых представляет отдельную строку\n",
    "cursor.executemany(\"INSERT INTO people (name, age) VALUES (?, ?)\", three_people)\n",
    "connection.commit()"
   ],
   "outputs": [],
   "execution_count": 37
  },
  {
   "cell_type": "code",
   "id": "108d2f53-7d17-415a-bfc6-4324df0a6b2e",
   "metadata": {
    "editable": true,
    "slideshow": {
     "slide_type": ""
    },
    "tags": [],
    "ExecuteTime": {
     "end_time": "2025-03-13T07:40:06.556745Z",
     "start_time": "2025-03-13T07:40:06.551769Z"
    }
   },
   "source": [
    "# теперь попробуем вывести внесенные нами в таблицу данные\n",
    "cursor.execute(\"SELECT * FROM people\")\n",
    "#print(cursor.fetchall())\n",
    "# не забывайте, что данные будут представлены в виде списка кортежей\n",
    "for person in cursor.fetchall():\n",
    "    print(f\"{person[1]} - {person[2]}\")"
   ],
   "outputs": [
    {
     "name": "stdout",
     "output_type": "stream",
     "text": [
      "Alice - 20\n",
      "Chad - 22\n",
      "Stacy - 19\n",
      "Malvin - 25\n",
      "Bob - 51\n",
      "Ken - 33\n",
      "Anna - 41\n"
     ]
    }
   ],
   "execution_count": 38
  },
  {
   "cell_type": "markdown",
   "id": "d4024209-c0bb-4811-9d33-b58b09c3ef2c",
   "metadata": {
    "editable": true,
    "slideshow": {
     "slide_type": ""
    },
    "tags": []
   },
   "source": [
    "<center>⭐</center>"
   ]
  },
  {
   "cell_type": "markdown",
   "id": "64f00a76-5442-4272-94a2-5fe207358144",
   "metadata": {
    "editable": true,
    "slideshow": {
     "slide_type": ""
    },
    "tags": []
   },
   "source": [
    "Проверьте, можно ли получить такой же вывод без использования метода `fetchall()`"
   ]
  },
  {
   "cell_type": "code",
   "id": "b97f507a-dad9-4c0c-ba0d-6824efd64716",
   "metadata": {
    "editable": true,
    "slideshow": {
     "slide_type": ""
    },
    "tags": [],
    "ExecuteTime": {
     "end_time": "2025-03-13T07:40:10.737620Z",
     "start_time": "2025-03-13T07:40:10.732999Z"
    }
   },
   "source": [
    "cursor.execute(\"SELECT * FROM people\")\n",
    "for person in cursor:\n",
    "    print(f'{person[1]} - {person[2]}')"
   ],
   "outputs": [
    {
     "name": "stdout",
     "output_type": "stream",
     "text": [
      "Alice - 20\n",
      "Chad - 22\n",
      "Stacy - 19\n",
      "Malvin - 25\n",
      "Bob - 51\n",
      "Ken - 33\n",
      "Anna - 41\n"
     ]
    }
   ],
   "execution_count": 39
  },
  {
   "cell_type": "markdown",
   "id": "9e7146aa-a1be-4529-af12-8e95f6dcd873",
   "metadata": {
    "editable": true,
    "slideshow": {
     "slide_type": ""
    },
    "tags": []
   },
   "source": [
    "Какой вывод мы ожидаем увидеть, выполнив блок кода ниже?  \n",
    "Объясните, почему получается именно такой вывод"
   ]
  },
  {
   "cell_type": "code",
   "id": "3280393a-c8cf-4192-ac5b-45180505c949",
   "metadata": {
    "editable": true,
    "slideshow": {
     "slide_type": ""
    },
    "tags": [],
    "ExecuteTime": {
     "end_time": "2025-03-13T07:40:12.789033Z",
     "start_time": "2025-03-13T07:40:12.784877Z"
    }
   },
   "source": [
    "cursor.execute(\"SELECT * FROM people\")\n",
    "print(cursor.fetchmany(3))"
   ],
   "outputs": [
    {
     "name": "stdout",
     "output_type": "stream",
     "text": [
      "[(1, 'Alice', 20), (2, 'Chad', 22), (3, 'Stacy', 19)]\n"
     ]
    }
   ],
   "execution_count": 40
  },
  {
   "cell_type": "markdown",
   "id": "44bf56a7-8b0d-4253-94c4-61991f73b240",
   "metadata": {
    "editable": true,
    "slideshow": {
     "slide_type": ""
    },
    "tags": []
   },
   "source": [
    "<center>💫</center>"
   ]
  },
  {
   "cell_type": "code",
   "id": "1eff4237-73c3-4752-92d1-c68d9be1521b",
   "metadata": {
    "editable": true,
    "slideshow": {
     "slide_type": ""
    },
    "tags": [],
    "ExecuteTime": {
     "end_time": "2025-03-13T07:40:15.861424Z",
     "start_time": "2025-03-13T07:40:15.858752Z"
    }
   },
   "source": [
    "connection.close() # закрываем соединение"
   ],
   "outputs": [],
   "execution_count": 41
  },
  {
   "cell_type": "code",
   "id": "2bc0334d-5727-4d4e-b0ea-f3f9d1efb02c",
   "metadata": {
    "editable": true,
    "slideshow": {
     "slide_type": ""
    },
    "tags": [],
    "ExecuteTime": {
     "end_time": "2025-03-13T07:40:18.672188Z",
     "start_time": "2025-03-13T07:40:18.667140Z"
    }
   },
   "source": [
    "connection = sqlite3.connect(r\"test.db\")\n",
    "cursor = connection.cursor()\n",
    "\n",
    "cursor.execute(\"SELECT * FROM people\")\n",
    "\n",
    "# извлекаем первые 4 строки из полученного набора\n",
    "print(cursor.fetchmany(4))"
   ],
   "outputs": [
    {
     "name": "stdout",
     "output_type": "stream",
     "text": [
      "[(1, 'Alice', 20), (2, 'Chad', 22), (3, 'Stacy', 19), (4, 'Malvin', 25)]\n"
     ]
    }
   ],
   "execution_count": 42
  },
  {
   "cell_type": "code",
   "id": "acb74753-ffdf-4972-9642-6000064e50b3",
   "metadata": {
    "editable": true,
    "slideshow": {
     "slide_type": ""
    },
    "tags": [],
    "ExecuteTime": {
     "end_time": "2025-03-13T07:40:21.394072Z",
     "start_time": "2025-03-13T07:40:21.387250Z"
    }
   },
   "source": [
    "# извлекаем следующие 4 строки из полученного набора\n",
    "print(cursor.fetchmany(4))"
   ],
   "outputs": [
    {
     "name": "stdout",
     "output_type": "stream",
     "text": [
      "[(5, 'Bob', 51), (6, 'Ken', 33), (7, 'Anna', 41)]\n"
     ]
    }
   ],
   "execution_count": 43
  },
  {
   "cell_type": "code",
   "id": "2416f11d-58e5-41a7-b111-9fbe7cada0f8",
   "metadata": {
    "editable": true,
    "slideshow": {
     "slide_type": ""
    },
    "tags": [],
    "ExecuteTime": {
     "end_time": "2025-03-13T07:40:24.920029Z",
     "start_time": "2025-03-13T07:40:24.917198Z"
    }
   },
   "source": [
    "connection.close()"
   ],
   "outputs": [],
   "execution_count": 44
  },
  {
   "cell_type": "code",
   "id": "10a9eec9-1153-4104-b1d8-5b2b7eb2731b",
   "metadata": {
    "editable": true,
    "slideshow": {
     "slide_type": ""
    },
    "tags": [],
    "ExecuteTime": {
     "end_time": "2025-03-13T07:40:26.537103Z",
     "start_time": "2025-03-13T07:40:26.532701Z"
    }
   },
   "source": [
    "connection = sqlite3.connect(r\"test.db\")\n",
    "cursor = connection.cursor()\n",
    "\n",
    "# метод fetchone() удобен, когда нам нужно извлечь из БД только один объект\n",
    "# в данном примере мы извлекаем поля name и age для объекта, поле id которого равно 2\n",
    "cursor.execute(\"SELECT name, age FROM people WHERE id=2\")\n",
    "# раскладываем кортеж на две переменных\n",
    "name, age = cursor.fetchone()\n",
    "print(f\"Name: {name}    Age: {age}\") "
   ],
   "outputs": [
    {
     "name": "stdout",
     "output_type": "stream",
     "text": [
      "Name: Chad    Age: 22\n"
     ]
    }
   ],
   "execution_count": 45
  },
  {
   "cell_type": "markdown",
   "id": "94a96697-426b-42b6-b187-4879fe836572",
   "metadata": {
    "editable": true,
    "slideshow": {
     "slide_type": ""
    },
    "tags": []
   },
   "source": [
    "Для обновления данных в SQL используется команда UPDATE  \n",
    "Попробуем изменить имя всех пользователей с возрастом меньше 20 на \"Kid\""
   ]
  },
  {
   "cell_type": "code",
   "id": "55e7ea9d-ecfd-40a8-af56-f63a113e63d5",
   "metadata": {
    "editable": true,
    "slideshow": {
     "slide_type": ""
    },
    "tags": [],
    "ExecuteTime": {
     "end_time": "2025-03-13T07:40:30.112946Z",
     "start_time": "2025-03-13T07:40:30.106311Z"
    }
   },
   "source": [
    "cursor.execute(\"UPDATE people SET name='Kid' WHERE age<20\")\n",
    "connection.commit()"
   ],
   "outputs": [],
   "execution_count": 46
  },
  {
   "cell_type": "markdown",
   "id": "bd3119a1-04d0-459a-8f4f-3834975629fb",
   "metadata": {
    "editable": true,
    "slideshow": {
     "slide_type": ""
    },
    "tags": []
   },
   "source": [
    "Для удаления данных в SQL используется команда DELETE  \n",
    "Попробуем удалить всех людей с именем Alice"
   ]
  },
  {
   "cell_type": "code",
   "id": "13f6eee5-7260-43ed-9c6f-5fbcfbbcb7f6",
   "metadata": {
    "editable": true,
    "slideshow": {
     "slide_type": ""
    },
    "tags": [],
    "ExecuteTime": {
     "end_time": "2025-03-13T07:40:33.003298Z",
     "start_time": "2025-03-13T07:40:32.998462Z"
    }
   },
   "source": [
    "cursor.execute(\"DELETE FROM people WHERE name='Alice'\")\n",
    "connection.commit()"
   ],
   "outputs": [],
   "execution_count": 47
  },
  {
   "cell_type": "markdown",
   "id": "869a2837-30ff-4ba2-bcd3-32ad97800a2c",
   "metadata": {
    "editable": true,
    "slideshow": {
     "slide_type": ""
    },
    "tags": []
   },
   "source": [
    "Проверим, что теперь записано в БД"
   ]
  },
  {
   "cell_type": "code",
   "id": "0801fbc7-eb8e-45a4-aecb-1a68919aad86",
   "metadata": {
    "editable": true,
    "slideshow": {
     "slide_type": ""
    },
    "tags": [],
    "ExecuteTime": {
     "end_time": "2025-03-13T07:40:35.312579Z",
     "start_time": "2025-03-13T07:40:35.308546Z"
    }
   },
   "source": [
    "cursor.execute(\"SELECT * FROM people\")\n",
    "print(cursor.fetchall())\n",
    "connection.close()"
   ],
   "outputs": [
    {
     "name": "stdout",
     "output_type": "stream",
     "text": [
      "[(2, 'Chad', 22), (3, 'Kid', 19), (4, 'Malvin', 25), (5, 'Bob', 51), (6, 'Ken', 33), (7, 'Anna', 41)]\n"
     ]
    }
   ],
   "execution_count": 48
  },
  {
   "cell_type": "code",
   "execution_count": null,
   "id": "c39fb96d-de4d-437c-9d81-b98967f9fad9",
   "metadata": {
    "editable": true,
    "slideshow": {
     "slide_type": ""
    },
    "tags": []
   },
   "outputs": [],
   "source": []
  },
  {
   "cell_type": "markdown",
   "id": "26d8e8f2-c97c-4613-85b2-be5e69785c82",
   "metadata": {
    "editable": true,
    "slideshow": {
     "slide_type": ""
    },
    "tags": []
   },
   "source": [
    "<center>⭐⭐</center>"
   ]
  },
  {
   "cell_type": "markdown",
   "id": "bdac6f93-913f-43a4-9363-5af792f36636",
   "metadata": {
    "editable": true,
    "slideshow": {
     "slide_type": ""
    },
    "tags": []
   },
   "source": [
    "Используя метеорологические данные из прошлой половины лабораторной работы, создайте БД содержащую следующие столбцы:\n",
    "1. __num__ - первичный ключ, номер строки по порядку\n",
    "2. __year__ - год измерения, число\n",
    "3. __tmin__ - \\\n",
    "4. __tmax__ - - соответствующие средние значения для каждого года\n",
    "5. __tavg__ - /"
   ]
  },
  {
   "cell_type": "code",
   "id": "6e68414b-ae18-478b-9598-a01f114b6186",
   "metadata": {
    "ExecuteTime": {
     "end_time": "2025-03-13T07:40:51.232727Z",
     "start_time": "2025-03-13T07:40:51.213543Z"
    }
   },
   "source": [
    "monthly_data = pd.read_csv(monthly_data_path)\n",
    "monthly_data = monthly_data[['time', 'tmin', 'tmax', 'tavg']]\n",
    "print(monthly_data.head())"
   ],
   "outputs": [
    {
     "name": "stdout",
     "output_type": "stream",
     "text": [
      "         time  tmin  tmax  tavg\n",
      "0  1951-01-01   NaN   NaN   NaN\n",
      "1  1951-02-01   NaN   NaN   NaN\n",
      "2  1951-03-01   NaN   NaN   NaN\n",
      "3  1951-04-01   NaN   NaN   NaN\n",
      "4  1951-05-01   NaN   NaN   NaN\n"
     ]
    }
   ],
   "execution_count": 49
  },
  {
   "cell_type": "code",
   "id": "c5487f62-edd6-4f2c-9b60-124de1f13d59",
   "metadata": {
    "editable": true,
    "slideshow": {
     "slide_type": ""
    },
    "tags": [],
    "ExecuteTime": {
     "end_time": "2025-03-13T07:41:08.265405Z",
     "start_time": "2025-03-13T07:41:08.248908Z"
    }
   },
   "source": [
    "connection = sqlite3.connect(\"test.db\")\n",
    "cursor = connection.cursor()\n",
    "\n",
    "cursor.execute(\"\"\"CREATE TABLE weather (\n",
    "                num INTEGER PRIMARY KEY AUTOINCREMENT,\n",
    "                time INTEGER,\n",
    "                tmin REAL,\n",
    "                tmax REAL,\n",
    "                tavg REAL)\n",
    "                \"\"\")\n",
    "\n",
    "monthly_data.to_sql(\"weather\", connection, if_exists=\"append\", index = False)\n",
    "\n",
    "connection.commit()\n",
    "connection.close()"
   ],
   "outputs": [],
   "execution_count": 51
  },
  {
   "cell_type": "markdown",
   "id": "711bafde-192f-404b-a85e-572925e2e4c9",
   "metadata": {
    "editable": true,
    "slideshow": {
     "slide_type": ""
    },
    "tags": []
   },
   "source": [
    "Выведите в отформатированном виде первые 20 строк данных из составленной вами БД"
   ]
  },
  {
   "cell_type": "code",
   "id": "b8674796-2651-4d77-bb92-648265db9ca1",
   "metadata": {
    "editable": true,
    "slideshow": {
     "slide_type": ""
    },
    "tags": [],
    "ExecuteTime": {
     "end_time": "2025-03-13T13:04:46.039797Z",
     "start_time": "2025-03-13T13:04:46.026760Z"
    }
   },
   "source": [
    "connection = sqlite3.connect(\"test.db\")\n",
    "cursor = connection.cursor()\n",
    "cursor.execute(\"SELECT * from weather LIMIT 60\")\n",
    "for _ in range(60):\n",
    "    print(cursor.fetchone())"
   ],
   "outputs": [
    {
     "name": "stdout",
     "output_type": "stream",
     "text": [
      "(1, '1951-01-01', None, None, None)\n",
      "(2, '1951-02-01', None, None, None)\n",
      "(3, '1951-03-01', None, None, None)\n",
      "(4, '1951-04-01', None, None, None)\n",
      "(5, '1951-05-01', None, None, None)\n",
      "(6, '1951-06-01', None, None, None)\n",
      "(7, '1951-07-01', None, None, None)\n",
      "(8, '1951-08-01', None, None, None)\n",
      "(9, '1951-09-01', None, None, None)\n",
      "(10, '1951-10-01', None, None, None)\n",
      "(11, '1951-11-01', None, None, None)\n",
      "(12, '1951-12-01', None, None, None)\n",
      "(13, '1952-01-01', None, None, None)\n",
      "(14, '1952-02-01', None, None, None)\n",
      "(15, '1952-03-01', None, None, None)\n",
      "(16, '1952-04-01', None, None, None)\n",
      "(17, '1952-05-01', None, None, None)\n",
      "(18, '1952-06-01', None, None, None)\n",
      "(19, '1952-07-01', None, None, None)\n",
      "(20, '1952-08-01', None, None, None)\n",
      "(21, '1952-09-01', None, None, None)\n",
      "(22, '1952-10-01', None, None, None)\n",
      "(23, '1952-11-01', None, None, None)\n",
      "(24, '1952-12-01', None, None, None)\n",
      "(25, '1953-01-01', -5.3, -1.1, -3.1)\n",
      "(26, '1953-02-01', -6.0, -1.5, -3.5)\n",
      "(27, '1953-03-01', -0.5, 3.8, 1.3)\n",
      "(28, '1953-04-01', 2.5, 8.0, 5.0)\n",
      "(29, '1953-05-01', 7.0, 12.9, 9.6)\n",
      "(30, '1953-06-01', 10.8, 15.3, 12.7)\n",
      "(31, '1953-07-01', 16.1, 20.4, 18.1)\n",
      "(32, '1953-08-01', 17.9, 22.6, 19.8)\n",
      "(33, '1953-09-01', 15.8, 20.6, 17.8)\n",
      "(34, '1953-10-01', 10.7, 16.6, 13.2)\n",
      "(35, '1953-11-01', 0.2, 5.0, 2.8)\n",
      "(36, '1953-12-01', -1.4, 2.6, 0.4)\n",
      "(37, '1954-01-01', -5.6, -0.5, -2.7)\n",
      "(38, '1954-02-01', -4.4, 1.3, -0.9)\n",
      "(39, '1954-03-01', -2.8, 2.3, 0.0)\n",
      "(40, '1954-04-01', 3.7, 9.3, 6.2)\n",
      "(41, '1954-05-01', 6.8, 13.1, 9.6)\n",
      "(42, '1954-06-01', 8.8, 13.2, 10.8)\n",
      "(43, '1954-07-01', 13.2, 17.8, 15.0)\n",
      "(44, '1954-08-01', 17.7, 22.2, 19.6)\n",
      "(45, '1954-09-01', 16.5, 20.8, 18.3)\n",
      "(46, '1954-10-01', 9.1, 13.9, 11.3)\n",
      "(47, '1954-11-01', 3.2, 8.4, 5.7)\n",
      "(48, '1954-12-01', -1.9, 3.0, 0.6)\n",
      "(49, '1955-01-01', -4.8, -1.0, -2.7)\n",
      "(50, '1955-02-01', -4.2, 0.1, -2.0)\n",
      "(51, '1955-03-01', -2.3, 2.3, -0.1)\n",
      "(52, '1955-04-01', 3.4, 8.8, 5.8)\n",
      "(53, '1955-05-01', 6.1, 10.9, 8.4)\n",
      "(54, '1955-06-01', 11.5, 17.5, 14.4)\n",
      "(55, '1955-07-01', 19.0, 24.5, 21.5)\n",
      "(56, '1955-08-01', 20.3, 24.7, 22.2)\n",
      "(57, '1955-09-01', 15.6, 20.3, 17.8)\n",
      "(58, '1955-10-01', 10.8, 15.4, 12.8)\n",
      "(59, '1955-11-01', 3.3, 8.4, 5.8)\n",
      "(60, '1955-12-01', -0.7, 5.0, 2.1)\n"
     ]
    }
   ],
   "execution_count": 38
  },
  {
   "cell_type": "markdown",
   "id": "c0a119d0-873d-4510-bb51-a13e63166596",
   "metadata": {
    "editable": true,
    "slideshow": {
     "slide_type": ""
    },
    "tags": []
   },
   "source": [
    "<center>💫</center>"
   ]
  },
  {
   "cell_type": "markdown",
   "id": "93b1a492-67df-47f6-bfb2-ef69f3bf2bbc",
   "metadata": {
    "editable": true,
    "slideshow": {
     "slide_type": ""
    },
    "tags": []
   },
   "source": [
    "<center>⭐⭐</center>"
   ]
  },
  {
   "cell_type": "markdown",
   "id": "0805ce36-22b9-4447-a8a1-bfdb6cea196f",
   "metadata": {
    "editable": true,
    "slideshow": {
     "slide_type": ""
    },
    "tags": []
   },
   "source": [
    "Вам даны два файла БД, содержащие в себе информацию с сайта MyAnimeList на 2023 год  \n",
    "\n",
    "В таблице `animefilteredfixed` содержатся следующие поля:  \n",
    "- anime_id - уникальный ID для каждого аниме\n",
    "- Name - название на языке оригинала\n",
    "- Score - оценка данного тайтла\n",
    "- Type - тип аниме (TV series, movie, OVA и т.д.)\n",
    "- Episodes - количество эпизодов\n",
    "- Aired - дата выхода в эфир\n",
    "- Premiered - сезон и год премьеры\n",
    "- Producers - продюссеры или продюссирующие компании\n",
    "- Licensors - правообладатели\n",
    "- Studios - студии, работавшие над созданием аниме\n",
    "- Source - на чем основывается (manga, light novel, original)\n",
    "- Duration - длительность эпизода\n",
    "- Rating - возрастной рейтинг\n",
    "- Ranked - ранг тайтла, основанный на его популярности и других критериях\n",
    "- Popularity - популярность данного тайтла\n",
    "- Members - сколько человек добавили данный тайтл себе в подборку\n",
    "- Favorites - сколько раз это аниме добавляли в избранное\n",
    "- Watching - сколько человек смотрят сейчас\n",
    "- Completed - сколько человек посмотрели полностью\n",
    "- On_Hold - у скольких человек в списке отложеного\n",
    "- Dropped - сколько человек бросили\n",
    "\n",
    "В таблице `finalanimedataset` содержатся следующие поля:  \n",
    "- anime_id --- эти 4 столбца уже были определены выше\n",
    "- type ------/\n",
    "- source ---/\n",
    "- score  --/\n",
    "- username - имя пользователя\n",
    "- my_score - какую оценку поставил этот пользователь выбранному аниме\n",
    "- user_id - ID пользователя\n",
    "- gender - пол пользователя\n",
    "- title - название аниме на языке оригинала\n",
    "- scored_by - сколько человек поставили оценку данному аниме\n",
    "- rank - то же что и Ranked\n",
    "- popularity - ранг популярности\n",
    "- genre - жанры\n",
    "\n",
    "Вашим заданием будет собрать статистику по имеющимся данным:\n",
    "1. Построить график, где по оси X обозначено значение score, а по оси Y - количество аниме с таким значением score\n",
    "2. Построить график, где по оси X обозначено число голосов за определенное аниме, а по оси Y - количество аниме, с таким количеством голосов\n",
    "3. Построить таблицу, в которой будут 3 столбца - название аниме, его score, сколько человек проголосовали за данный тайтл\n",
    "   Сортировка производится по последнему столбцу\n",
    "   Число строк в таблице - 15"
   ]
  },
  {
   "cell_type": "code",
   "id": "55f49360-cef2-40cd-a2aa-6dce610e8088",
   "metadata": {
    "editable": true,
    "slideshow": {
     "slide_type": ""
    },
    "tags": [],
    "ExecuteTime": {
     "end_time": "2025-03-13T11:48:23.542951Z",
     "start_time": "2025-03-13T11:48:23.283485Z"
    }
   },
   "source": [
    "import matplotlib.pyplot as plt\n",
    "\n",
    "connection = sqlite3.connect('animefilteredfixed.sqlite')\n",
    "cursor = connection.cursor()\n",
    "\n",
    "cursor.execute(\"\"\"\n",
    "SELECT score, COUNT(*) AS anime_count\n",
    "FROM animefilteredfixed\n",
    "GROUP BY score\n",
    "ORDER BY score;\n",
    "\"\"\")\n",
    "\n",
    "results = cursor.fetchall()\n",
    "\n",
    "connection.close()\n",
    "\n",
    "# Разделяем данные на два списка: scores и anime_counts\n",
    "scores = [row[0] for row in results]\n",
    "anime_counts = [row[1] for row in results]\n",
    "\n",
    "plt.xlabel('Оценка')\n",
    "plt.ylabel('Аниме')\n",
    "plt.bar(scores, anime_counts)\n",
    "plt.grid(axis='y', linestyle='--')\n",
    "plt.tight_layout()\n",
    "plt.show()"
   ],
   "outputs": [
    {
     "data": {
      "text/plain": [
       "<Figure size 640x480 with 1 Axes>"
      ],
      "image/png": "[encoded data removed]"
     },
     "metadata": {},
     "output_type": "display_data"
    }
   ],
   "execution_count": 5
  },
  {
   "cell_type": "code",
   "id": "def2ffb3-4155-4741-a8ee-f6e2f5a58836",
   "metadata": {
    "ExecuteTime": {
     "end_time": "2025-03-13T12:59:50.873989Z",
     "start_time": "2025-03-13T12:59:38.187663Z"
    }
   },
   "source": [
    "connection = sqlite3.connect('finalanimedataset.sqlite')\n",
    "\n",
    "votes = pd.read_sql_query(\"SELECT anime_id, COUNT(*) as vote_count FROM finalanimedataset GROUP BY anime_id\",\n",
    "                          connection)\n",
    "\n",
    "plt.hist(votes['vote_count'])\n",
    "plt.xlabel('Голоса')\n",
    "plt.ylabel('Тайтл')\n",
    "plt.grid(True)\n",
    "plt.show()\n",
    "connection.close()"
   ],
   "outputs": [
    {
     "data": {
      "text/plain": [
       "<Figure size 640x480 with 1 Axes>"
      ],
      "image/png": "[encoded data removed]"
     },
     "metadata": {},
     "output_type": "display_data"
    }
   ],
   "execution_count": 37
  },
  {
   "cell_type": "code",
   "id": "abc0b2ea-5025-46c0-8d84-111b52a160d9",
   "metadata": {
    "ExecuteTime": {
     "end_time": "2025-03-13T13:12:29.910206Z",
     "start_time": "2025-03-13T13:12:17.264787Z"
    }
   },
   "source": [
    "connection1 = sqlite3.connect('animefilteredfixed.sqlite')\n",
    "connection2 = sqlite3.connect('finalanimedataset.sqlite')\n",
    "\n",
    "anime = pd.read_sql_query(\"SELECT anime_id, Name, Score FROM animefilteredfixed\",\n",
    "                          connection1)\n",
    "votes = pd.read_sql_query(\"SELECT anime_id, COUNT(*) as vote_count FROM finalanimedataset GROUP BY anime_id\",\n",
    "                          connection2)\n",
    "\n",
    "merged = pd.merge(anime, votes, on='anime_id')\n",
    "\n",
    "top_15_anime = merged[['Name', 'Score', 'vote_count']].sort_values(by='Score', ascending=False).tail(15)\n",
    "top_15_anime.columns = ['Название аниме', 'Оценка', 'Количество голосов']\n",
    "\n",
    "print(top_15_anime)\n",
    "\n",
    "connection1.close()\n",
    "connection2.close()"
   ],
   "outputs": [
    {
     "name": "stdout",
     "output_type": "stream",
     "text": [
      "                    Название аниме  Оценка  Количество голосов\n",
      "6570                   Fetish Doll    3.09                 235\n",
      "7158         Good-by Elvis and USA    3.09                 148\n",
      "7523                      Mochibei    3.02                 238\n",
      "5988                       Shitcom    2.78                2129\n",
      "4247             Ningen Doubutsuen    2.77                 656\n",
      "7827                    Love Bites    2.66                 275\n",
      "6573                 Aki no Puzzle    2.63                 188\n",
      "7699                      Ai (ONA)    2.61                 269\n",
      "3896   Abunai Sisters: Koko & Mika    2.50                 435\n",
      "7198                          Nami    2.35                 845\n",
      "7537                      Kokuhaku    2.30                 353\n",
      "3796                  Tsui no Sora    2.26                 286\n",
      "387                Hametsu no Mars    2.23                6705\n",
      "5632            Utsu Musume Sayuri    2.01                1228\n",
      "2804  Tenkuu Danzai Skelter+Heaven    1.85                2219\n"
     ]
    }
   ],
   "execution_count": 42
  },
  {
   "cell_type": "markdown",
   "id": "99b38f4f-db1d-4d2f-97c7-ac5547943ee3",
   "metadata": {
    "editable": true,
    "slideshow": {
     "slide_type": ""
    },
    "tags": []
   },
   "source": [
    "<center>💫</center>"
   ]
  }
 ],
 "metadata": {
  "kernelspec": {
   "display_name": "Python 3 (ipykernel)",
   "language": "python",
   "name": "python3"
  },
  "language_info": {
   "codemirror_mode": {
    "name": "ipython",
    "version": 3
   },
   "file_extension": ".py",
   "mimetype": "text/x-python",
   "name": "python",
   "nbconvert_exporter": "python",
   "pygments_lexer": "ipython3",
   "version": "3.8.17"
  }
 },
 "nbformat": 4,
 "nbformat_minor": 5
}
