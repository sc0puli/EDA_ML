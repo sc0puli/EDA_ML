{
 "cells": [
  {
   "cell_type": "markdown",
   "id": "d9ad667c-48bf-4a4e-922b-093a00194c5e",
   "metadata": {},
   "source": [
    "<center><H1>Параллелизация вычислений в python</H1></center>"
   ]
  },
  {
   "cell_type": "markdown",
   "id": "0d33813f-a301-4990-bcae-f64efd2b2807",
   "metadata": {},
   "source": [
    "<H4>Обозначения</H4>"
   ]
  },
  {
   "cell_type": "markdown",
   "id": "2b79e996-55a8-44bd-af1f-671d9ab1fda3",
   "metadata": {},
   "source": [
    "⭐ - Простое задание  \n",
    "🌟 - Сложное задание  \n",
    "⭐⭐ - Задание на 2 балла  \n",
    "💫 - Конец задания"
   ]
  },
  {
   "cell_type": "markdown",
   "id": "c75e4b7f-0d2c-431d-abf5-851f305bc0ad",
   "metadata": {},
   "source": [
    "<H2>1. Операции Map и Reduce</H2>"
   ]
  },
  {
   "cell_type": "markdown",
   "id": "c6de6c49-b57d-4ab7-967e-0f27d77c72a8",
   "metadata": {},
   "source": [
    "В основе распределенных вычислений, как правило, лежат операции **Map** и **Reduce**  \n",
    "**Map** применяет заданную функцию множество раз к разным входным данным, в результате получается такой же по размеру набор выходных данных  \n",
    "**Reduce** применяет заданную функцию к набору входных значений и _сокращает_ их до одного выходного  \n",
    "\n",
    "Python имеет функции `map` и `reduce`, выполняющие эти действия  \n",
    "Рассмотрим их работу на простом примере  \n",
    "\n",
    "Но сначала модули! В этой части работы нам понадобятся `random` и `itertools`, а также функция `reduce`"
   ]
  },
  {
   "cell_type": "code",
   "id": "732ac2ee-795d-49ac-be80-5f4635dd82df",
   "metadata": {
    "ExecuteTime": {
     "end_time": "2025-03-13T13:45:58.729851Z",
     "start_time": "2025-03-13T13:45:58.725805Z"
    }
   },
   "source": [
    "import random\n",
    "import itertools as it\n",
    "from functools import reduce"
   ],
   "outputs": [],
   "execution_count": 3
  },
  {
   "cell_type": "markdown",
   "id": "0d439af7-51c3-4723-9324-1bb0ea67c3e3",
   "metadata": {},
   "source": [
    "---"
   ]
  },
  {
   "cell_type": "markdown",
   "id": "59878843-9068-4e9d-af2b-d5cbd9371be6",
   "metadata": {},
   "source": [
    "Давайте загадаем целое число от 0 до 100 и попросим компьютер его угадать с помощью случайного генератора  "
   ]
  },
  {
   "cell_type": "code",
   "id": "c848be16-32ac-4f32-aa7e-a0efc3396bc9",
   "metadata": {
    "ExecuteTime": {
     "end_time": "2025-03-13T13:46:21.415622Z",
     "start_time": "2025-03-13T13:46:21.413389Z"
    }
   },
   "source": "x = 52   # введите свое число",
   "outputs": [],
   "execution_count": 4
  },
  {
   "cell_type": "code",
   "id": "a083c072-e096-4277-bdd1-c471aa6ca9fb",
   "metadata": {
    "ExecuteTime": {
     "end_time": "2025-03-13T13:46:25.948307Z",
     "start_time": "2025-03-13T13:46:25.940762Z"
    }
   },
   "source": [
    "guesses = random.sample(range(101), k=10)    # берем 10 разных случайных чисел из диапазона\n",
    "guesses"
   ],
   "outputs": [
    {
     "data": {
      "text/plain": [
       "[28, 8, 60, 92, 77, 98, 96, 76, 18, 95]"
      ]
     },
     "execution_count": 5,
     "metadata": {},
     "output_type": "execute_result"
    }
   ],
   "execution_count": 5
  },
  {
   "cell_type": "markdown",
   "id": "e4292325-2e65-4a3a-9560-9814dd07dfb2",
   "metadata": {},
   "source": [
    "<br>  \n",
    "\n",
    "Теперь найдем лучшую попытку компьютера  \n",
    "Для этого нам понадобится 2 шага:  \n",
    "1. Оценить разность каждого числа в списке `guesses` с заданным числом `x`\n",
    "2. Найти попытку с минимальной разностью  \n",
    "\n",
    "Определим для этих шагов функции `difference` и `min_diff`"
   ]
  },
  {
   "cell_type": "code",
   "id": "8263fdcd-23e8-493d-ba3d-60569addd2bf",
   "metadata": {
    "ExecuteTime": {
     "end_time": "2025-03-13T13:46:32.190109Z",
     "start_time": "2025-03-13T13:46:32.186420Z"
    }
   },
   "source": [
    "def difference(x, y):\n",
    "    return y, abs(x - y)"
   ],
   "outputs": [],
   "execution_count": 6
  },
  {
   "cell_type": "code",
   "id": "a0f8a571-2f98-4a6e-902c-fafc17ba06fe",
   "metadata": {
    "ExecuteTime": {
     "end_time": "2025-03-13T13:46:35.741682Z",
     "start_time": "2025-03-13T13:46:35.737049Z"
    }
   },
   "source": [
    "def min_diff(p1, p2):\n",
    "    if p2[1] < p1[1]:\n",
    "        return p2\n",
    "    return p1"
   ],
   "outputs": [],
   "execution_count": 7
  },
  {
   "cell_type": "markdown",
   "id": "9bc507ad-cd9e-4191-bc27-481bed349053",
   "metadata": {},
   "source": [
    "<br>  \n",
    "\n",
    "Обратите внимание на особенности функций:  \n",
    "1. `difference` возвращает не только разность, но и само число `y`\n",
    "2. `min_diff` сравнивает не весь список разностей, а только 2"
   ]
  },
  {
   "cell_type": "markdown",
   "id": "45408061-a4be-49b8-b2dc-9bc3c12dd475",
   "metadata": {},
   "source": [
    "Найдем все разности с помощью `map`:"
   ]
  },
  {
   "cell_type": "code",
   "id": "5d390312-fde9-4b33-a260-63d9c8e4ae60",
   "metadata": {
    "ExecuteTime": {
     "end_time": "2025-03-13T13:46:38.874727Z",
     "start_time": "2025-03-13T13:46:38.869775Z"
    }
   },
   "source": [
    "diffs = map(difference, it.repeat(x), guesses)     # применяет функцию difference к наборам аргументов\n",
    "                                                   # it.repeat(x) всегда возвращает x в качестве первого аргумента\n",
    "                                                   # guesses содержит значения второго аргумента\n",
    "\n",
    "diffs = list(diffs)        # map сама по себе не вызывает функцию difference, а возвращает итерируемый объект\n",
    "                           # вызов difference происходит во время итерации - например, при записи значений в list\n",
    "diffs"
   ],
   "outputs": [
    {
     "data": {
      "text/plain": [
       "[(28, 24),\n",
       " (8, 44),\n",
       " (60, 8),\n",
       " (92, 40),\n",
       " (77, 25),\n",
       " (98, 46),\n",
       " (96, 44),\n",
       " (76, 24),\n",
       " (18, 34),\n",
       " (95, 43)]"
      ]
     },
     "execution_count": 8,
     "metadata": {},
     "output_type": "execute_result"
    }
   ],
   "execution_count": 8
  },
  {
   "cell_type": "markdown",
   "id": "16078074-90e6-4faf-8593-7db9e1b83258",
   "metadata": {},
   "source": [
    "<br>  \n",
    "\n",
    "Теперь выберем из этих разностей минимальную с помощью `reduce`:"
   ]
  },
  {
   "cell_type": "code",
   "id": "779aa473-f14f-4456-b817-17020e5f1afe",
   "metadata": {
    "ExecuteTime": {
     "end_time": "2025-03-13T13:46:43.962939Z",
     "start_time": "2025-03-13T13:46:43.957301Z"
    }
   },
   "source": [
    "best_guess = reduce(min_diff, diffs)       # reduce работает следующим образом:\n",
    "                                           # r0 = diffs[0]\n",
    "                                           # r1 = min_diff(r0, diffs[1])\n",
    "                                           # r2 = min_diff(r1, diffs[2])\n",
    "                                           # ...\n",
    "                                           # return rn\n",
    "\n",
    "best_guess"
   ],
   "outputs": [
    {
     "data": {
      "text/plain": [
       "(60, 8)"
      ]
     },
     "execution_count": 9,
     "metadata": {},
     "output_type": "execute_result"
    }
   ],
   "execution_count": 9
  },
  {
   "cell_type": "markdown",
   "id": "646a4646-9299-4f17-8767-d33ff9b98491",
   "metadata": {},
   "source": [
    "Итак, с помощью `map` и `reduce` мы определили число из списка, ближайшее к заданному  \n",
    "Теперь особенности функций `difference` и `min_diff` должны быть понятнее:  \n",
    "1. `difference` возвращает значение `y`, чтобы оно появилось на выходе алгоритма\n",
    "2. `min_diff` сравнивает только 2 значения, поскольку `reduce` вызывает ее последовательно для пар значений"
   ]
  },
  {
   "cell_type": "markdown",
   "id": "a6be3020-c354-4b7f-8c5e-12db4f5df0a3",
   "metadata": {},
   "source": [
    "---"
   ]
  },
  {
   "cell_type": "markdown",
   "id": "b0f10ae1-32b3-4cb6-8a59-37f997ad5c47",
   "metadata": {},
   "source": [
    "<center>⭐⭐</center>  \n",
    "\n",
    "Реализуйте вычисление скалярного произведения векторов на основе функций `map` и `reduce`"
   ]
  },
  {
   "cell_type": "code",
   "id": "cc88df9e-ee3e-4b3a-94b4-8f46b277bdc4",
   "metadata": {
    "ExecuteTime": {
     "end_time": "2025-03-13T13:46:50.444582Z",
     "start_time": "2025-03-13T13:46:50.355658Z"
    }
   },
   "source": [
    "import numpy as np\n",
    "\n",
    "# входные вектора\n",
    "a1 = np.random.random(10)\n",
    "a2 = np.random.random(10)"
   ],
   "outputs": [],
   "execution_count": 10
  },
  {
   "cell_type": "code",
   "id": "eb058891-c82b-4826-b1cd-499da19c7a75",
   "metadata": {
    "ExecuteTime": {
     "end_time": "2025-03-13T13:46:52.678945Z",
     "start_time": "2025-03-13T13:46:52.674321Z"
    }
   },
   "source": [
    "# функции для map и reduce (допишите)\n",
    "\n",
    "def mult(x1, x2):\n",
    "    return x1 * x2\n",
    "\n",
    "def add(x1, x2):\n",
    "    return x1 + x2"
   ],
   "outputs": [],
   "execution_count": 11
  },
  {
   "cell_type": "code",
   "id": "a559e13af65d355d",
   "metadata": {
    "ExecuteTime": {
     "end_time": "2025-03-13T13:47:36.460824Z",
     "start_time": "2025-03-13T13:47:36.452530Z"
    }
   },
   "source": [
    "multiplies = map(mult, a1, a2)\n",
    "multiplies = list(multiplies)\n",
    "multiplies"
   ],
   "outputs": [
    {
     "data": {
      "text/plain": [
       "[np.float64(0.5401655980100144),\n",
       " np.float64(0.2578136449790416),\n",
       " np.float64(0.14851700159245274),\n",
       " np.float64(0.19441867429998713),\n",
       " np.float64(0.1779156469698378),\n",
       " np.float64(0.14475764413162032),\n",
       " np.float64(0.09730640073827963),\n",
       " np.float64(0.012023846220070676),\n",
       " np.float64(0.1671084251368729),\n",
       " np.float64(0.5273345650459877)]"
      ]
     },
     "execution_count": 17,
     "metadata": {},
     "output_type": "execute_result"
    }
   ],
   "execution_count": 17
  },
  {
   "metadata": {
    "ExecuteTime": {
     "end_time": "2025-03-13T13:47:38.540692Z",
     "start_time": "2025-03-13T13:47:38.537432Z"
    }
   },
   "cell_type": "code",
   "source": "answer = reduce(add, multiplies)",
   "id": "80b963d1-c79b-4f14-aba7-f144534b8744",
   "outputs": [],
   "execution_count": 18
  },
  {
   "cell_type": "code",
   "id": "4a739647-d44f-4656-8221-3341e9af207f",
   "metadata": {
    "ExecuteTime": {
     "end_time": "2025-03-13T13:48:28.961257Z",
     "start_time": "2025-03-13T13:48:28.957573Z"
    }
   },
   "source": [
    "# проверка результата\n",
    "print(answer == np.dot(a1, a2))    # замените answer на ваш результат вычислений"
   ],
   "outputs": [
    {
     "name": "stdout",
     "output_type": "stream",
     "text": [
      "True\n"
     ]
    }
   ],
   "execution_count": 22
  },
  {
   "cell_type": "markdown",
   "id": "10c79e88-66cf-4133-8b0a-7d21e00ed18b",
   "metadata": {},
   "source": [
    "<center>💫</center>"
   ]
  },
  {
   "cell_type": "markdown",
   "id": "1a0132dc-3f66-4fef-b645-8dd3203790fb",
   "metadata": {},
   "source": [
    "<H2>2. Многопоточное распараллеливание</H2>"
   ]
  },
  {
   "cell_type": "markdown",
   "id": "9a48c13e-d060-4505-b9fc-758b9437a339",
   "metadata": {},
   "source": [
    "Рассмотренные выше примеры едва ли требуют параллелизации  \n",
    "Необходимость в ней возникает, когда:  \n",
    "- в памяти не хватает места для данных  \n",
    "- вычисления выполняются слишком долго  \n",
    "\n",
    "В этой части работы мы рассмотрим задачу поиска статьи на Википедии по запросу пользователя  \n",
    "\n",
    "Модули к бою!"
   ]
  },
  {
   "cell_type": "code",
   "id": "f638c2fa-5018-4dc3-b400-6d151fb62c31",
   "metadata": {
    "ExecuteTime": {
     "end_time": "2025-03-13T13:49:14.421510Z",
     "start_time": "2025-03-13T13:49:14.418782Z"
    }
   },
   "source": [
    "import math\n",
    "from distance.levenshtein import levenshtein      # эта функция измеряет редакционное расстояние между строками"
   ],
   "outputs": [],
   "execution_count": 23
  },
  {
   "cell_type": "markdown",
   "id": "81814270-cd43-4798-a19a-3c799e5d87aa",
   "metadata": {},
   "source": [
    "---"
   ]
  },
  {
   "cell_type": "markdown",
   "id": "f9a45c9e-8c19-49f2-8dd3-b125b21f01bb",
   "metadata": {},
   "source": [
    "Для начала разберемся, как мы будем искать нужную статью  \n",
    "Найти полное совпадения названия с запросом пользователя - задача тривиальная  \n",
    "Однако в запросе могут быть опечатки, и хорошая поисковая система умеет их исправлять  \n",
    "\n",
    "Это значит, что нашей основной задачей будет найти не абсолютное совпадение, а названия статей, которые _похожи_ на запрос  \n",
    "Здесь нам пригодится _расстояние Левенштейна_ (или _редакционное расстояние_) - количество символов, которые необходимо добавить, убрать или заменить в строке 1, чтобы получить из нее строку 2  \n",
    "К счастью, код для вычисления этой метрики за нас уже написали"
   ]
  },
  {
   "cell_type": "code",
   "id": "a500624a-adcf-4b7f-b632-bf8aca5703f0",
   "metadata": {
    "ExecuteTime": {
     "end_time": "2025-03-13T13:50:16.426279Z",
     "start_time": "2025-03-13T13:50:16.420853Z"
    }
   },
   "source": [
    "levenshtein('apple', 'orange')"
   ],
   "outputs": [
    {
     "data": {
      "text/plain": [
       "np.float64(5.0)"
      ]
     },
     "execution_count": 24,
     "metadata": {},
     "output_type": "execute_result"
    }
   ],
   "execution_count": 24
  },
  {
   "cell_type": "code",
   "id": "a8287451-e0fd-44fe-b175-4275e6894902",
   "metadata": {
    "ExecuteTime": {
     "end_time": "2025-03-13T13:50:17.866516Z",
     "start_time": "2025-03-13T13:50:17.861977Z"
    }
   },
   "source": [
    "levenshtein('luck', 'yucK')"
   ],
   "outputs": [
    {
     "data": {
      "text/plain": [
       "np.float64(2.0)"
      ]
     },
     "execution_count": 25,
     "metadata": {},
     "output_type": "execute_result"
    }
   ],
   "execution_count": 25
  },
  {
   "cell_type": "code",
   "id": "870c08be-d309-451e-9d2b-99ed9fabe3e2",
   "metadata": {
    "ExecuteTime": {
     "end_time": "2025-03-13T13:50:19.223893Z",
     "start_time": "2025-03-13T13:50:19.219295Z"
    }
   },
   "source": [
    "levenshtein('luck', 'yucK', lowercase=True)"
   ],
   "outputs": [
    {
     "data": {
      "text/plain": [
       "np.float64(1.0)"
      ]
     },
     "execution_count": 26,
     "metadata": {},
     "output_type": "execute_result"
    }
   ],
   "execution_count": 26
  },
  {
   "cell_type": "markdown",
   "id": "24615bf3-faf5-43a7-844c-71a9ee0e6d31",
   "metadata": {},
   "source": [
    "<br>  \n",
    "\n",
    "Для упрощения пока представим, что на Википедии есть только 4 статьи с совершенно нормальными названиями, а пользователь - фанат тяжелого метала с дислексией:"
   ]
  },
  {
   "cell_type": "code",
   "id": "03b7cdb0-f204-4932-92b7-6b185bcef796",
   "metadata": {
    "ExecuteTime": {
     "end_time": "2025-03-13T13:50:35.323058Z",
     "start_time": "2025-03-13T13:50:35.320056Z"
    }
   },
   "source": [
    "article_names = ['Conquest', 'War', 'Famine', 'Death']\n",
    "request = 'deaht'"
   ],
   "outputs": [],
   "execution_count": 27
  },
  {
   "cell_type": "markdown",
   "id": "35db9718-289f-416a-bbf4-27bac0f1cef1",
   "metadata": {},
   "source": [
    "<br>  \n",
    "\n",
    "Как обычно, определим функции для `map` и `reduce`"
   ]
  },
  {
   "cell_type": "code",
   "id": "d5605a25-0a38-4600-8815-b826a54f3d13",
   "metadata": {
    "ExecuteTime": {
     "end_time": "2025-03-13T13:50:41.416840Z",
     "start_time": "2025-03-13T13:50:41.413751Z"
    }
   },
   "source": [
    "def mapper(word, ref):\n",
    "    return ref, levenshtein(word, ref, lowercase=True)\n",
    "\n",
    "def reducer(current_ref, new_ref):\n",
    "    if new_ref[1] < current_ref[1]:\n",
    "        return new_ref\n",
    "    return current_ref"
   ],
   "outputs": [],
   "execution_count": 28
  },
  {
   "cell_type": "markdown",
   "id": "031b7b71-3898-4048-840b-3f64cb2e6b61",
   "metadata": {},
   "source": [
    "<br>  \n",
    "\n",
    "Но не будем забывать, что на этот раз вычисления нужно распараллелить  \n",
    "Разобьем наш список названий на несколько частей и создадим функцию обработки одной части"
   ]
  },
  {
   "cell_type": "code",
   "id": "b0a849eb-89ca-4718-9c11-802f231ec023",
   "metadata": {
    "ExecuteTime": {
     "end_time": "2025-03-13T13:50:48.963760Z",
     "start_time": "2025-03-13T13:50:48.957902Z"
    }
   },
   "source": [
    "def chunkify(refs, N):\n",
    "    step = int(math.ceil(len(refs) / N))\n",
    "    inds = list(range(0, len(refs) + step, step))\n",
    "    for i1, i2 in zip(inds, inds[1:]):\n",
    "        yield refs[i1:i2]\n",
    "\n",
    "name_chunks = list(chunkify(article_names, 2))\n",
    "name_chunks"
   ],
   "outputs": [
    {
     "data": {
      "text/plain": [
       "[['Conquest', 'War'], ['Famine', 'Death']]"
      ]
     },
     "execution_count": 29,
     "metadata": {},
     "output_type": "execute_result"
    }
   ],
   "execution_count": 29
  },
  {
   "cell_type": "code",
   "id": "f1a21049-77e8-44e1-a9c3-5dabaa9045ef",
   "metadata": {
    "ExecuteTime": {
     "end_time": "2025-03-13T13:50:52.762156Z",
     "start_time": "2025-03-13T13:50:52.757566Z"
    }
   },
   "source": [
    "def chunk_processer(word, refs):\n",
    "    mapped = map(mapper, it.repeat(word), refs)\n",
    "    reduced = reduce(reducer, mapped)\n",
    "    return reduced\n",
    "\n",
    "print(chunk_processer(request, name_chunks[0]))\n",
    "print(chunk_processer(request, name_chunks[1]))"
   ],
   "outputs": [
    {
     "name": "stdout",
     "output_type": "stream",
     "text": [
      "('War', np.float64(4.0))\n",
      "('Death', np.float64(2.0))\n"
     ]
    }
   ],
   "execution_count": 30
  },
  {
   "cell_type": "markdown",
   "id": "291e8e90-bf09-4e62-9c2f-1aa51b2a3a62",
   "metadata": {},
   "source": [
    "<br>  \n",
    "\n",
    "Теперь применим `map` уже к функции обработки блока, а к результатам обработки нескольких блоков - функцию `reduce`"
   ]
  },
  {
   "cell_type": "code",
   "id": "81e6792f-10cc-43cd-ab55-5d60b12a3b3f",
   "metadata": {
    "ExecuteTime": {
     "end_time": "2025-03-13T13:50:58.159970Z",
     "start_time": "2025-03-13T13:50:58.154547Z"
    }
   },
   "source": [
    "mapped = map(chunk_processer, it.repeat(request), name_chunks)\n",
    "reduced = reduce(reducer, mapped)\n",
    "\n",
    "reduced"
   ],
   "outputs": [
    {
     "data": {
      "text/plain": [
       "('Death', np.float64(2.0))"
      ]
     },
     "execution_count": 31,
     "metadata": {},
     "output_type": "execute_result"
    }
   ],
   "execution_count": 31
  },
  {
   "cell_type": "markdown",
   "id": "cd6ab340-575a-4a13-a4e0-38142897a339",
   "metadata": {},
   "source": [
    "<br>  \n",
    "\n",
    "В итоге задача вычисления редакционных расстояний была разбита на несколько частей  \n",
    "Однако вычисления все также выполнялись последовательно  \n",
    "\n",
    "Вызов `map` можно параллелизовать с помощью модуля `multiprocessing`"
   ]
  },
  {
   "cell_type": "code",
   "id": "18b6f312-eb05-4d1d-a427-129c03a5dad6",
   "metadata": {
    "ExecuteTime": {
     "end_time": "2025-03-13T13:51:07.865436Z",
     "start_time": "2025-03-13T13:51:07.822720Z"
    }
   },
   "source": [
    "from multiprocessing.pool import ThreadPool as Pool\n",
    "\n",
    "N = 2\n",
    "\n",
    "with Pool(processes=N) as pool:     # создаем менеджер параллельных процессов\n",
    "    name_chunks = list(chunkify(article_names, N))\n",
    "    mapped = pool.starmap(chunk_processer, zip(it.repeat(request), name_chunks))     # Pool.map() работает только с функциями одного аргумента, starmap() - с несколькими\n",
    "    reduced = reduce(reducer, mapped)\n",
    "\n",
    "print(reduced)"
   ],
   "outputs": [
    {
     "name": "stdout",
     "output_type": "stream",
     "text": [
      "('Death', np.float64(2.0))\n"
     ]
    }
   ],
   "execution_count": 32
  },
  {
   "cell_type": "markdown",
   "id": "d20d75df-42e8-4d88-9c6a-c38f37b7b508",
   "metadata": {},
   "source": [
    "<br>  \n",
    "\n",
    "**Важно!** В интерактивной среде распараллеливание на самом деле **не работает**  \n",
    "`ThreadPool` создает новые потоки в том же процессе и использует только одно ядро процессора  \n",
    "Для реального распараллеливания необходимо импортировать `Pool` и работать в скрипте, запускаемом из командной строки  \n",
    "\n",
    "Поэтому далее будем работать с файлом `pool.py`  \n",
    "Откройте его и ознакомьтесь с кодом - там уже написан скрипт, выполняющий поиск названия статьи с минимальным редакционным расстоянием до пользовательского запроса  \n",
    "\n",
    "Откройте консольное окно, перейдите в директорию лабораторной работы и запустите скрипт:  \n",
    "`python pool.py <any request>`  \n",
    "_Если запустится другой python и это вызовет проблемы, напишите полный путь:_  \n",
    "`..\\..\\dist\\pyenv3.8-win64\\python pool.py <any request>`\n",
    "\n",
    "Пока скрипт выполняется, переходите к выполнению заданий  \n",
    "Ждать завершения работы скрипта не рекомендуется - он работает долго"
   ]
  },
  {
   "cell_type": "markdown",
   "id": "a7b2c3f6-c92d-4bb1-b946-d611afb2f05a",
   "metadata": {},
   "source": [
    "---"
   ]
  },
  {
   "cell_type": "markdown",
   "id": "e98fdb17-92be-44f3-bee5-c00bd65458fc",
   "metadata": {},
   "source": [
    "<H4>Итоговое задание</H4>"
   ]
  },
  {
   "cell_type": "markdown",
   "id": "2b1c8f1f-2a55-4a6a-aad1-1dd036a96803",
   "metadata": {},
   "source": [
    "<center>⭐⭐⭐</center>"
   ]
  },
  {
   "cell_type": "markdown",
   "id": "f53ac70f-d6b5-4caf-b2d0-d45a08aba3f8",
   "metadata": {},
   "source": [
    "Измените функцию `mapper` таким образом, чтобы:  \n",
    "⭐ для строк с разностью длин больше 2 не вычислялось редакционное расстояние, а сразу возвращалось большое значение (например, 10)  \n",
    "⭐ проводилось сравнение наборов букв в строках без учета их расположения и при отклонении больше 2 возвращалось большое значение  \n",
    "\n",
    "Запустите скрипт, сравните время работы  \n",
    "⭐ Объясните разницу"
   ]
  },
  {
   "cell_type": "markdown",
   "id": "2a5553c8-f47c-4e5f-8e95-2a220fec82c5",
   "metadata": {},
   "source": [
    "<center>💫</center>"
   ]
  },
  {
   "cell_type": "markdown",
   "id": "563e7adf-a742-4ee1-8d0f-73a64ad412dc",
   "metadata": {},
   "source": [
    "<center>⭐⭐🌟</center>"
   ]
  },
  {
   "cell_type": "markdown",
   "id": "ba55ee64-fdff-4130-874f-67e7ed3317b8",
   "metadata": {},
   "source": [
    "⭐⭐ Сделайте сравнение не по полным названиям статей, а по словам в названиях  \n",
    "Считайте, что пользователь вводит одно слово, а вывести нужно названия статей, которые содержат найденное ближайшее к нему слово  \n",
    "\n",
    "Все слова в статьях можно найти в файле:  \n",
    "`data/words in titles.json`  \n",
    "Каждому слову соотнесен список названий, в которых оно встречается (по индексам)  \n",
    "\n",
    "Считать json файл можно с помощью модуля `json`:"
   ]
  },
  {
   "cell_type": "code",
   "execution_count": null,
   "id": "910e9960-0f6b-4d00-a03c-ccf22fc6110d",
   "metadata": {},
   "outputs": [],
   "source": [
    "import json\n",
    "\n",
    "with open('data/words in titles.json', 'r') as f:\n",
    "    words = json.load(f)"
   ]
  },
  {
   "cell_type": "markdown",
   "id": "8f52296c-4a50-4b87-ac71-e88992229674",
   "metadata": {},
   "source": [
    "<br>  \n",
    "\n",
    "🌟 Используя список названий из `data/wiki titles no special.txt`, самостоятельно сформируйте файл, аналогичный `data/words in titles.json`  \n",
    "_Сохраните под другим названием, чтобы не потерять оригинал_  \n",
    "\n",
    "Записать json файл можно с помощью того же модуля `json`:"
   ]
  },
  {
   "cell_type": "code",
   "execution_count": null,
   "id": "f539f3c3-2db1-4e56-b78a-a61058f58ebf",
   "metadata": {},
   "outputs": [],
   "source": [
    "import json\n",
    "\n",
    "words = {'a': [1, 2]}\n",
    "\n",
    "with open('data/words in titles1.json', 'w') as f:\n",
    "    json.dump(words, f)"
   ]
  },
  {
   "cell_type": "markdown",
   "id": "e9c72c68-bcb8-4f39-8cda-254042dedb12",
   "metadata": {},
   "source": [
    "<center>💫</center>"
   ]
  },
  {
   "cell_type": "markdown",
   "id": "faa2b469-eb3c-42bf-8fd4-d5618dde9bab",
   "metadata": {},
   "source": [
    "<center>🌟🌟</center>"
   ]
  },
  {
   "cell_type": "markdown",
   "id": "95081b25-6ca9-49d4-9835-c50e43af06ee",
   "metadata": {},
   "source": [
    "Модифицируйте алгоритм таким образом, чтобы выводились 10 ближайших совпадений, а не одно  \n",
    "\n",
    "_Подсказка: функцию `reducer` придется пересмотреть_"
   ]
  },
  {
   "cell_type": "markdown",
   "id": "3065a732-27ed-480a-906f-4ee029f7a97c",
   "metadata": {},
   "source": [
    "<center>💫</center>"
   ]
  }
 ],
 "metadata": {
  "kernelspec": {
   "display_name": "Python 3 (ipykernel)",
   "language": "python",
   "name": "python3"
  },
  "language_info": {
   "codemirror_mode": {
    "name": "ipython",
    "version": 3
   },
   "file_extension": ".py",
   "mimetype": "text/x-python",
   "name": "python",
   "nbconvert_exporter": "python",
   "pygments_lexer": "ipython3",
   "version": "3.8.17"
  }
 },
 "nbformat": 4,
 "nbformat_minor": 5
}
